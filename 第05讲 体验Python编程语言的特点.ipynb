{
 "cells": [
  {
   "cell_type": "markdown",
   "metadata": {},
   "source": [
    "# 第05讲 体验Python编程语言的特点"
   ]
  },
  {
   "cell_type": "markdown",
   "metadata": {},
   "source": [
    "## 1)解释执行!\n",
    "\n",
    "下面的代码请在python的交互环境中执行"
   ]
  },
  {
   "cell_type": "code",
   "execution_count": 1,
   "metadata": {},
   "outputs": [
    {
     "name": "stdout",
     "output_type": "stream",
     "text": [
      "c= 2760000000\n"
     ]
    }
   ],
   "source": [
    "def  mysum(x,y):\n",
    "    return x+y  #定义函数\n",
    "\n",
    "a=1400000000;b=1360000000  # 定义两个变量\n",
    "c=mysum(a,b)  # 调用自定义函数\n",
    "print(\"c=\",c)  # 输出调用结果"
   ]
  },
  {
   "cell_type": "markdown",
   "metadata": {},
   "source": [
    "自定义函数——对任意多个数据求和求积的自定义函数\n",
    "\n",
    "不要任何扩展包函数，仅用Python的内核完成"
   ]
  },
  {
   "cell_type": "code",
   "execution_count": 2,
   "metadata": {},
   "outputs": [],
   "source": [
    "def sum_mul(*x):\n",
    "       n=len(x)\n",
    "       s=0\n",
    "       p=1\n",
    "       for i in x:\n",
    "            s+=i\n",
    "            p*=i\n",
    "       return s,p"
   ]
  },
  {
   "cell_type": "markdown",
   "metadata": {},
   "source": [
    "计算1连加到100和连乘到100的调用举例\n"
   ]
  },
  {
   "cell_type": "code",
   "execution_count": 3,
   "metadata": {},
   "outputs": [
    {
     "name": "stdout",
     "output_type": "stream",
     "text": [
      "sum= 465\n",
      "mul= 265252859812191058636308480000000\n"
     ]
    }
   ],
   "source": [
    "y=list(range(1,31))\n",
    "sum,mul =sum_mul(*y)\n",
    "print(\"sum=\",sum)\n",
    "print(\"mul=\",mul) "
   ]
  },
  {
   "cell_type": "markdown",
   "metadata": {},
   "source": [
    "## 2）丰富的扩展包!\n",
    "\n",
    "如果导入numpy包到内存，那么计算多个数据的和与积简化为调用数组实例的函数sum()和prod(),例如计算1~20的连加和连乘可以简单到"
   ]
  },
  {
   "cell_type": "code",
   "execution_count": 4,
   "metadata": {},
   "outputs": [
    {
     "name": "stdout",
     "output_type": "stream",
     "text": [
      "[ 1  2  3  4  5  6  7  8  9 10 11 12 13 14 15 16 17 18 19 20]\n",
      "210\n",
      "-2102132736\n",
      "Variable   Type        Data/Info\n",
      "--------------------------------\n",
      "a          int         1400000000\n",
      "b          int         1360000000\n",
      "c          int         2760000000\n",
      "mul        int         265252859812191058636308480000000\n",
      "mysum      function    <function mysum at 0x0000020C5EB3ECA8>\n",
      "np         module      <module 'numpy' from 'C:\\<...>ges\\\\numpy\\\\__init__.py'>\n",
      "sum        int         465\n",
      "sum_mul    function    <function sum_mul at 0x0000020C5EB3E9D8>\n",
      "x          ndarray     20: 20 elems, type `int32`, 80 bytes\n",
      "y          list        n=30\n"
     ]
    }
   ],
   "source": [
    "import numpy as np \n",
    "x=np.array(range(1,21),dtype=np.int32)\n",
    "print(x)\n",
    "print(x.sum())\n",
    "print(x.prod())\n",
    "%whos"
   ]
  },
  {
   "cell_type": "markdown",
   "metadata": {},
   "source": [
    "测试上面两个程序，连乘法1，2，....，20可见python的基本类型具有无穷大的空间能力，可以得到正确结果，但numpy中数据有类型空间大小限制，numpy在计算时候越界得到错误的值。"
   ]
  }
 ],
 "metadata": {
  "kernelspec": {
   "display_name": "Python 3",
   "language": "python",
   "name": "python3"
  },
  "language_info": {
   "codemirror_mode": {
    "name": "ipython",
    "version": 3
   },
   "file_extension": ".py",
   "mimetype": "text/x-python",
   "name": "python",
   "nbconvert_exporter": "python",
   "pygments_lexer": "ipython3",
   "version": "3.7.7"
  }
 },
 "nbformat": 4,
 "nbformat_minor": 4
}
