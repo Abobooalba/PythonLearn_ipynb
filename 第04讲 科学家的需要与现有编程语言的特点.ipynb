{
 "cells": [
  {
   "cell_type": "markdown",
   "metadata": {
    "slideshow": {
     "slide_type": "slide"
    }
   },
   "source": [
    "# 第04讲 科学家的需要与现有编程语言的特点\n"
   ]
  },
  {
   "attachments": {},
   "cell_type": "markdown",
   "metadata": {
    "slideshow": {
     "slide_type": "slide"
    }
   },
   "source": [
    "## 科学研究的路径\n",
    "\n",
    "* 获取数据（模拟，实验控制，采集数据）\n",
    "* 操作及处理数据（分析数据特征，寻找背后的规律）\n",
    "* 可视化结果（数据整体的分布）— 理解我们在做什么！\n",
    "* 沟通结果（研究结论的发布）—生成报告或出版物的图片，写报告"
   ]
  },
  {
   "attachments": {},
   "cell_type": "markdown",
   "metadata": {
    "slideshow": {
     "slide_type": "slide"
    }
   },
   "source": [
    "## 科研人员对编程语言的要求（易学易用高效率）\n",
    "\n",
    "* 对于经典的数学方法及基本的方法，有丰富的现成工具：我们不希望重新编写程序去完成傅立叶变换或者拟合算法。不要重复发明轮子(wheel)\n",
    "* 易于学习：我们想要在几分钟内画出曲线，平滑一个信号或者做傅立叶变换，或者求出线性问题的解。用到编程语言必须易学。\n",
    "* 代码的可读性好，方便与合作者、学生、客户交流。编程语言应该包含尽可能少的语法符号或者不必要的常规约定，使来自数学或科学领域读者愉悦的理解这些代码。\n",
    "* 语言高效，执行快，但是不需要花费太多的时间来写非常快的代码。\n",
    "* 一个单一的语言/环境做所有事，如果可能的话，避免每个新问题都要学习新软件\n",
    "* 开源免费"
   ]
  },
  {
   "attachments": {},
   "cell_type": "markdown",
   "metadata": {
    "slideshow": {
     "slide_type": "slide"
    }
   },
   "source": [
    "## 现有编程语言的特点\n",
    "\n",
    "1. 编译语言：C、C++、Fortran等。\n",
    "    * 优势：非常快。极度优化的编译器。对于大量的计算来说，很难比这些语言的性能更好。它们带有一些非常优化的科学计算包。比如：BLAS（向量/矩阵操作）\n",
    "    * 不足：使用起来令人痛苦。开发过程中没有任何互动，强制编译步骤，啰嗦的语法（&, ::, }}, ; 等），手动内存管理（在C中非常棘手）。\n",
    "2. 脚本语言：Matlab，Mathematica，Maple\n",
    "   * 优势：对不同的领域的多种算法都有非常完备的类库。执行很快，因为这些类库通常使用编译语言写的。友好的开发环境：完善的、组织良好的帮助，整合的编辑器等。有商业支持。\n",
    "   * 不足：基础语言非常欠缺，会限制高级用户，不是免费的。\n"
   ]
  },
  {
   "attachments": {},
   "cell_type": "markdown",
   "metadata": {
    "slideshow": {
     "slide_type": "slide"
    }
   },
   "source": [
    "## python语言的特点\n",
    "* Python是一种通用语言（可用于众多领域）。它被解释运行，既非常适合交互工作和快速实现算法，又足够强大用来写大型应用程序。\n",
    "* 优势：非常丰富的科学计算包（尽管比Matlab少一些），精心设计的语言，允许写出可读性非常好并且结构良好的程序代码。对于科学计算外的其他任务也有许多类库（例如，网站服务器管理，串口接收等等）。免费的开源软件，广泛传播，有一个充满活力的社区。\n",
    "* 不足：开发环境友好性不足。专业软件有的算法，Python不一定有。\n",
    "\n"
   ]
  },
  {
   "cell_type": "markdown",
   "metadata": {
    "slideshow": {
     "slide_type": "subslide"
    }
   },
   "source": [
    "* 解释执行，无需经历痛苦而慢长的编译连接调试过程\n",
    "* 既可以交互工作，又可以开发大型应用程序\n",
    "* 不断丰富的扩展包或模块，功能越来越强大\n",
    "* 开源免费，有利于人类共同进步（注意分享我们自己的成功）\n",
    "* 编程界面（环境）友好型欠佳（用不成鼠标，没有可点击的图标）\n",
    "* 很多专业软件有的优秀算法，有待我们为Python 做轮子(whl）"
   ]
  }
 ],
 "metadata": {
  "celltoolbar": "幻灯片",
  "kernelspec": {
   "display_name": "PythonLearn",
   "language": "python",
   "name": "pythonlearn"
  },
  "language_info": {
   "codemirror_mode": {
    "name": "ipython",
    "version": 3
   },
   "file_extension": ".py",
   "mimetype": "text/x-python",
   "name": "python",
   "nbconvert_exporter": "python",
   "pygments_lexer": "ipython3",
   "version": "3.7.7"
  }
 },
 "nbformat": 4,
 "nbformat_minor": 4
}
