{
 "cells": [
  {
   "cell_type": "markdown",
   "metadata": {
    "nteract": {
     "transient": {
      "deleting": false
     }
    }
   },
   "source": [
    "# 2020年4月15日学习笔记"
   ]
  },
  {
   "cell_type": "markdown",
   "metadata": {
    "nteract": {
     "transient": {
      "deleting": false
     }
    }
   },
   "source": [
    "# Python中的数据类型和Numpy包中的数据类型"
   ]
  },
  {
   "cell_type": "markdown",
   "metadata": {
    "nteract": {
     "transient": {
      "deleting": false
     }
    }
   },
   "source": [
    "## Python中的内置数据类型\n",
    "\n",
    "参考Python 3.8官方文档：https://docs.python.org/zh-cn/3.8/reference/index.html\n",
    "\n",
    "### 数据模型Data model\n",
    "\n",
    "对象Objects 是 Python 中对数据data的抽象。 Python 程序中的所有数据都是由对象或对象间关系来表示的。\n",
    "\n",
    "每个对象都有各自的编号identity、类型type和值value。\n",
    "\n",
    "一个对象被创建后，它的 编号identity  就绝不会改变；你可以将其理解为该对象在内存中的地址。 'is' 运算符可以比较两个对象的编号identity 是否相同；id() 函数能返回一个代表其编号identity 的整型数。\n",
    "\n",
    "对象的类型type决定该对象所支持的操作operations  并且定义了该类型的对象可能的取值。type() 函数能返回一个对象的类型 (类型本身也是对象)。与编号operations一样，一个对象的 类型type 也是不可改变的。\n",
    "\n",
    "有些对象的 值value  可以改变。值可以改变的对象被称为 可变的mutable；值不可以改变的对象就被称为 不可变的immutable。\n",
    "\n",
    "\n",
    "### 标准类型层级结构(部分）\n",
    "\n",
    "1. None----print()函数返回的就是None类型\n",
    "2. numbers.Number：整型数、浮点型数和复数:\n",
    "       * numbers.Integral： 整型 (int)、 布尔型 (bool)\n",
    "       * numbers.Real (float)  \n",
    "       * numbers.Complex (complex)\n",
    "3. 序列Sequences：不可变序列（字符串Strings、元组Tuples、字节串Bytes）；可变序列（列表Lists、字节数组Byte Arrays）\n",
    "4. 集合类型Set types： 集合Sets、冻结集合\n",
    "5. 映射Mappings：字典Dictionaries"
   ]
  },
  {
   "cell_type": "code",
   "execution_count": 1,
   "metadata": {
    "execution": {
     "iopub.execute_input": "2020-04-15T13:27:32.622Z",
     "iopub.status.busy": "2020-04-15T13:27:32.620Z",
     "iopub.status.idle": "2020-04-15T13:27:32.626Z",
     "shell.execute_reply": "2020-04-15T13:27:32.629Z"
    }
   },
   "outputs": [
    {
     "name": "stdout",
     "output_type": "stream",
     "text": [
      "2\n",
      "Variable   Type        Data/Info\n",
      "--------------------------------\n",
      "a          NoneType    None\n",
      "b          int         10\n",
      "c          float       2.0\n",
      "d          complex     (3+2j)\n"
     ]
    }
   ],
   "source": [
    "a=print(2)\n",
    "b=10\n",
    "c=2.0\n",
    "d=3+2j\n",
    "%whos"
   ]
  },
  {
   "cell_type": "code",
   "execution_count": 2,
   "metadata": {
    "execution": {
     "iopub.execute_input": "2020-04-15T13:38:39.983Z",
     "iopub.status.busy": "2020-04-15T13:38:39.980Z",
     "iopub.status.idle": "2020-04-15T13:38:39.987Z",
     "shell.execute_reply": "2020-04-15T13:38:39.995Z"
    },
    "jupyter": {
     "outputs_hidden": false,
     "source_hidden": false
    },
    "nteract": {
     "transient": {
      "deleting": false
     }
    },
    "outputExpanded": false
   },
   "outputs": [
    {
     "name": "stdout",
     "output_type": "stream",
     "text": [
      "Variable   Type        Data/Info\n",
      "--------------------------------\n",
      "a          NoneType    None\n",
      "b          int         10\n",
      "c          float       2.0\n",
      "d          complex     (3+2j)\n",
      "l          list        n=3\n",
      "m          dict        n=2\n",
      "s          set         {1, 2, 3}\n",
      "st         str         string'\n",
      "t          tuple       n=3\n"
     ]
    }
   ],
   "source": [
    "st=\"string'\"\n",
    "t=(1,2,3)\n",
    "l=[1,2,3]\n",
    "s={1,2,3,3} #集合\n",
    "m={'name':'张三','age':20}\n",
    "%whos"
   ]
  },
  {
   "cell_type": "markdown",
   "metadata": {
    "nteract": {
     "transient": {
      "deleting": false
     }
    }
   },
   "source": [
    "# Numpy中的数据类型\n",
    "\n",
    "* 参考Numpy1.18中的官方文档：https://numpy.org/doc/1.18/user/basics.types.html\n",
    "* Numpy1.17中文翻译：https://www.numpy.org.cn/\n",
    "\n",
    "NumPy 支持比 Python 更多的数值类型。支持的原始类型与 C 中的基元类型紧密地绑定，但由于其中许多具有与平台相关的定义，因此提供了一组固定大小的别名：\n",
    "\n",
    "| Numpy 的类型    | C 的类型     | 描述                   |\n",
    "|:---------------- |:-------------- |:----------------------------  |\n",
    "| np.int8       | int8_t         | 字节（-128到127）        |\n",
    "| np.int16      | int16_t        | 整数（-32768至32767）       |\n",
    "| np.int32      | int32_t        | 整数（-2147483648至2147483647）             |\n",
    "| np.int64      | int64_t        | 整数（-9223372036854775808至9223372036854775807） |\n",
    "| np.uint8      | uint8_t        | 无符号整数（0到255）                     |\n",
    "| np.uint16     | uint16_t       | 无符号整数（0到65535）                   |\n",
    "| np.uint32     | uint32_t       | 无符号整数（0到4294967295）                |\n",
    "| np.uint64     | uint64_t       | 无符号整数（0到18446744073709551615）         |\n",
    "| np.intp       | intptr_t      | 用于索引的整数，通常与索引相同 ssize_t         |\n",
    "| np.uintp      | uintptr_t      | 整数大到足以容纳指针                     |\n",
    "| np.float32     | float        |                                   |\n",
    "| np.float64 / np.float_    | double         | 请注意，这与内置python float的精度相匹配。      |\n",
    "| np.complex64                | float complex  | 复数，由两个32位浮点数（实数和虚数组件）表示  |\n",
    "| np.complex128 / np.complex_ | double complex | 请注意，这与内置python 复合体的精度相匹配。       |\n",
    "\n",
    "NumPy数值类型是`dtype`（数据类型）对象的实例，每个对象都具有独特的特征。使用前导入NumPy\n",
    "\n",
    "```python\n",
    ">>> import numpy as np\n",
    "```\n"
   ]
  },
  {
   "cell_type": "code",
   "execution_count": 20,
   "metadata": {
    "execution": {
     "iopub.execute_input": "2020-04-15T13:17:06.659Z",
     "iopub.status.busy": "2020-04-15T13:17:06.657Z",
     "iopub.status.idle": "2020-04-15T13:17:06.663Z",
     "shell.execute_reply": "2020-04-15T13:17:06.669Z"
    }
   },
   "outputs": [
    {
     "name": "stdout",
     "output_type": "stream",
     "text": [
      "Variable   Type       Data/Info\n",
      "-------------------------------\n",
      "a          int        127\n",
      "b          int8       127\n",
      "c          float      2.0\n",
      "d          complex    (3+2j)\n",
      "l          list       n=3\n",
      "m          dict       n=2\n",
      "np         module     <module 'numpy' from 'C:\\<...>ges\\\\numpy\\\\__init__.py'>\n",
      "s          set        {1, 2, 3}\n",
      "st         str        string'\n",
      "student    dtype      [('name', 'S20'), ('age',<...> 'i1'), ('marks', '<f4')]\n",
      "t          tuple      n=3\n",
      "127\n",
      "-128\n",
      "-128\n"
     ]
    },
    {
     "data": {
      "text/plain": [
       "1024"
      ]
     },
     "execution_count": 20,
     "metadata": {},
     "output_type": "execute_result"
    }
   ],
   "source": [
    "import numpy as np\n",
    "a=127\n",
    "b=np.int8(127)\n",
    "%whos\n",
    "print(np.int8(127))\n",
    "print(np.int8(127+1))\n",
    "print(np.int8(-128))\n",
    "np.power(2, 10, dtype=np.int64)"
   ]
  },
  {
   "cell_type": "markdown",
   "metadata": {
    "nteract": {
     "transient": {
      "deleting": false
     }
    }
   },
   "source": [
    "## NumPy Ndarray 对象（NumPy中的N维数组）"
   ]
  },
  {
   "cell_type": "code",
   "execution_count": 4,
   "metadata": {
    "execution": {
     "iopub.execute_input": "2020-04-15T14:39:47.766Z",
     "iopub.status.busy": "2020-04-15T14:39:47.760Z",
     "iopub.status.idle": "2020-04-15T14:39:47.774Z",
     "shell.execute_reply": "2020-04-15T14:39:47.785Z"
    },
    "jupyter": {
     "outputs_hidden": false,
     "source_hidden": false
    },
    "nteract": {
     "transient": {
      "deleting": false
     }
    },
    "outputExpanded": false
   },
   "outputs": [
    {
     "name": "stdout",
     "output_type": "stream",
     "text": [
      "[1 2 3]\n"
     ]
    }
   ],
   "source": [
    "import numpy as np \n",
    "a = np.array([1,2,3])  \n",
    "print (a)"
   ]
  },
  {
   "cell_type": "code",
   "execution_count": 21,
   "metadata": {
    "execution": {
     "iopub.execute_input": "2020-04-15T14:40:02.162Z",
     "iopub.status.busy": "2020-04-15T14:40:02.160Z",
     "iopub.status.idle": "2020-04-15T14:40:02.170Z",
     "shell.execute_reply": "2020-04-15T14:40:02.180Z"
    },
    "jupyter": {
     "outputs_hidden": false,
     "source_hidden": false
    },
    "nteract": {
     "transient": {
      "deleting": false
     }
    },
    "outputExpanded": false
   },
   "outputs": [
    {
     "name": "stdout",
     "output_type": "stream",
     "text": [
      "[[1 2]\n",
      " [3 4]]\n",
      "Variable   Type       Data/Info\n",
      "-------------------------------\n",
      "a          ndarray    2x2: 4 elems, type `int32`, 16 bytes\n",
      "b          int8       127\n",
      "c          float      2.0\n",
      "d          complex    (3+2j)\n",
      "l          list       n=3\n",
      "m          dict       n=2\n",
      "np         module     <module 'numpy' from 'C:\\<...>ges\\\\numpy\\\\__init__.py'>\n",
      "s          set        {1, 2, 3}\n",
      "st         str        string'\n",
      "student    dtype      [('name', 'S20'), ('age',<...> 'i1'), ('marks', '<f4')]\n",
      "t          tuple      n=3\n"
     ]
    }
   ],
   "source": [
    "# 多于一个维度  \n",
    "import numpy as np \n",
    "a = np.array([[1,  2],  [3,  4]])  \n",
    "print (a)\n",
    "%whos"
   ]
  },
  {
   "cell_type": "code",
   "execution_count": 6,
   "metadata": {
    "execution": {
     "iopub.execute_input": "2020-04-15T14:42:53.551Z",
     "iopub.status.busy": "2020-04-15T14:42:53.548Z",
     "iopub.status.idle": "2020-04-15T14:42:53.557Z",
     "shell.execute_reply": "2020-04-15T14:42:53.559Z"
    },
    "jupyter": {
     "outputs_hidden": false,
     "source_hidden": false
    },
    "nteract": {
     "transient": {
      "deleting": false
     }
    },
    "outputExpanded": false
   },
   "outputs": [
    {
     "name": "stdout",
     "output_type": "stream",
     "text": [
      "[('name', 'S20'), ('age', 'i1'), ('marks', '<f4')]\n"
     ]
    }
   ],
   "source": [
    "# 结构化数据类型 student\n",
    "import numpy as np\n",
    "student = np.dtype([('name','S20'), ('age', 'i1'), ('marks', 'f4')]) \n",
    "print(student)"
   ]
  }
 ],
 "metadata": {
  "kernel_info": {
   "name": "python37764bitjwconda684865a20ca2485aae893210708f4859"
  },
  "kernelspec": {
   "display_name": "Python 3.7.7 64-bit ('jw': conda)",
   "language": "python",
   "name": "python37764bitjwconda684865a20ca2485aae893210708f4859"
  },
  "language_info": {
   "codemirror_mode": {
    "name": "ipython",
    "version": 3
   },
   "file_extension": ".py",
   "mimetype": "text/x-python",
   "name": "python",
   "nbconvert_exporter": "python",
   "pygments_lexer": "ipython3",
   "version": "3.7.7"
  },
  "nteract": {
   "version": "0.22.4"
  }
 },
 "nbformat": 4,
 "nbformat_minor": 1
}
