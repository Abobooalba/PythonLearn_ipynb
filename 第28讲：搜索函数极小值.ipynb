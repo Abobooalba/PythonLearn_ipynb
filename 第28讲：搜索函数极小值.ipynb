{
 "cells": [
  {
   "cell_type": "markdown",
   "metadata": {},
   "source": [
    "# 第28讲：搜索函数极小值"
   ]
  },
  {
   "cell_type": "markdown",
   "metadata": {},
   "source": [
    "## scipy.optimize——函数最小化(标量或多维度)、曲线拟合、求根可能用到的函数\n",
    "\n",
    "\n",
    "- brute          暴力搜索极小值\n",
    "- curve_fit        曲线拟合\n",
    "- fmin           找极小值\n",
    "- fmin_bfgs        BFGS法找极小值\n",
    "- fmin_cg  \n",
    "- fmin_cobyla\n",
    "- fmin_l_bfgs_b\n",
    "- fmin_ncg       牛顿共轭梯度法\n",
    "- fmin_powell     打靶法\n",
    "- fmin_slsqp\n",
    "- fmin_tnc\n",
    "- leastsq       最小平方误差方法\n",
    "- fminbound      约束极小\n",
    "- fsolve        解方程\n",
    "- minimize       极小化\n",
    "- newton        牛顿法求根\n",
    "- optimize      优化"
   ]
  },
  {
   "cell_type": "markdown",
   "metadata": {},
   "source": [
    "## 关于求极小值的梯度下降法知识:\n",
    "   \n",
    "一般来说，倾向于\n",
    "\n",
    "BFGS (scipy.optimize.fmin_bfgs())或 L-BFGS ((scipy.optimize.fmin_l_bfgs_b()))\n",
    "\n",
    " 即使有大概的数值梯度，在状况良好的问题上，\n",
    " \n",
    " Powell (scipy.optimize.fmin_powell()) 以及 \n",
    " Nelder-Mead (scipy.optimize.fmin()), \n",
    " \n",
    " 都是在高维上效果良好的梯度自有方法，但是他们无法支持状况糟糕的问题。\n",
    "  \n",
    "  \n",
    "BFGS的计算开支要大于L-BFGS, 它自身也比CG（共轭梯度法带字符 cg）法开销大。\n",
    "另一方面，BFGS通常比CG需要更少函数评估。\n",
    "因此，共轭梯度法对优化计算量较少的函数比BFGS更好。\n",
    "  \n",
    "带有Hessian: 如果你可以计算Hessian, 推荐牛顿法 (scipy.optimize.fmin_ncg())。\n",
    "   \n",
    "如果有噪音测量: 使用Nelder-Mead (scipy.optimize.fmin()) 或者 Powell (scipy.optimize.fmin_powell())。"
   ]
  },
  {
   "cell_type": "markdown",
   "metadata": {},
   "source": [
    "## 寻找函数极小值的方法步骤\n",
    "\n",
    "1. 定义目标函数f(x),一阶导函数fp(x)及二阶导函数fpp(x)\n",
    "2. 导入求函数极小值的函数fmin,fmin_bfgs,fmin_ncg,fmin_l_bfgs _b,brute,minimize\n",
    "3. 估计极小值位置的初值x0\n",
    "4. 调用极小值函数fmin_bfgs(f,x0)等，求出函数极小值对应位置xmin\n",
    "4. 依据位置xmin计算函数的极小值ymin=f(xmin)\n",
    "5. 选择自变量区间，画出函数曲线和极小值位置点（xmin,ymin）\n"
   ]
  },
  {
   "cell_type": "markdown",
   "metadata": {},
   "source": [
    "## 问题：寻找如下标量函数f(x)的最小值。\n",
    "\n",
    "例如定义f(x)函数：\n",
    "```\n",
    "import numpy as np\n",
    "def f(x): return x**2 + 10*np.sin(x)\n",
    "```\n",
    "这个函数在  -1.3 附近有一个全局最小，并且在  3.8 附近有一个局部最小。找到这个函数最小值位置最有效的算法是梯度下降算法BFGS ，其他算法可能花费更多时间。需要的程序fmin_1.py，内容如下：\n"
   ]
  },
  {
   "cell_type": "code",
   "execution_count": 9,
   "metadata": {},
   "outputs": [
    {
     "name": "stdout",
     "output_type": "stream",
     "text": [
      "Optimization terminated successfully.\n",
      "         Current function value: -7.945823\n",
      "         Iterations: 5\n",
      "         Function evaluations: 18\n",
      "         Gradient evaluations: 6\n",
      "Optimization terminated successfully.\n",
      "         Current function value: 8.315586\n",
      "         Iterations: 3\n",
      "         Function evaluations: 15\n",
      "         Gradient evaluations: 5\n",
      "xmin= [[-1.30644012  3.83746748]]\n",
      "ymin= [[-7.94582338  8.31558558]]\n"
     ]
    },
    {
     "data": {
      "image/png": "[encoded data removed]",
      "text/plain": [
       "<Figure size 432x288 with 1 Axes>"
      ]
     },
     "metadata": {
      "needs_background": "light"
     },
     "output_type": "display_data"
    }
   ],
   "source": [
    "import numpy as np\n",
    "\n",
    "def f(x):\n",
    "    return x**2 + 10*np.sin(x)\n",
    "\n",
    "from matplotlib import pyplot as plt\n",
    "from scipy import optimize as opt\n",
    "\n",
    "ofb=opt.fmin_bfgs\n",
    "\n",
    "x0=0;\n",
    "x1=4\n",
    "xmin0=ofb(f, x0,disp=True)\n",
    "\n",
    "xmin1=ofb(f,x1,disp=True)\n",
    "\n",
    "xmin=np.array([xmin0,xmin1]).T\n",
    "\n",
    "ymin=f(xmin)\n",
    "\n",
    "print('xmin=',xmin)\n",
    "print('ymin=',ymin)\n",
    "\n",
    "x = np.arange(-10, 10, 0.1);\n",
    "\n",
    "y=f(x)\n",
    "\n",
    "v=dict(color='g',marker='o',alpha=0.75,edgecolor='k')\n",
    "\n",
    "plt.rcParams['font.size']=24\n",
    "plt.plot(x,y,'r',lw=2);\n",
    "plt.scatter(xmin,ymin,200,**v)\n",
    "plt.ylabel(r'$f(x)$');\n",
    "plt.xlabel('x')\n",
    "plt.title(r'$x^{2}+sin(x)$')\n",
    "plt.show()"
   ]
  },
  {
   "cell_type": "markdown",
   "metadata": {},
   "source": [
    "## 也可以调用fmin，求函数f(x)的极小值位置(xim,ymin)"
   ]
  },
  {
   "cell_type": "code",
   "execution_count": 11,
   "metadata": {},
   "outputs": [
    {
     "name": "stdout",
     "output_type": "stream",
     "text": [
      "Optimization terminated successfully.\n",
      "         Current function value: -7.945823\n",
      "         Iterations: 26\n",
      "         Function evaluations: 52\n"
     ]
    },
    {
     "data": {
      "text/plain": [
       "array([-1.3064375])"
      ]
     },
     "execution_count": 11,
     "metadata": {},
     "output_type": "execute_result"
    }
   ],
   "source": [
    "\n",
    "opt.fmin(f,x0,disp=True)"
   ]
  },
  {
   "cell_type": "code",
   "execution_count": 5,
   "metadata": {},
   "outputs": [
    {
     "name": "stdout",
     "output_type": "stream",
     "text": [
      "Optimization terminated successfully.\n",
      "         Current function value: 8.315586\n",
      "         Iterations: 13\n",
      "         Function evaluations: 26\n"
     ]
    },
    {
     "data": {
      "text/plain": [
       "array([3.8375])"
      ]
     },
     "execution_count": 5,
     "metadata": {},
     "output_type": "execute_result"
    }
   ],
   "source": [
    "\n",
    "opt.fmin(f,x1,disp=True)"
   ]
  },
  {
   "cell_type": "markdown",
   "metadata": {},
   "source": [
    "## 调用minimize也可以求出函数f(x)d的极小值位置(xmin,ymin)\n",
    "\n",
    "\n",
    "调用：\n",
    "\n",
    "scipy.optimize.minimize(fun, x0, args=(), method=None, jac=None, hess=None, hessp=None, bounds=None, constraints=(), tol=None, callback=None, options=None)\n",
    "\n",
    "参数：\n",
    "\n",
    "fun ：优化的目标函数\n",
    "\n",
    "x0 ：初值，一维数组，shape (n,)\n",
    "\n",
    "args ： 元组，可选，额外传递给优化函数的参数\n",
    "\n",
    "method：求解的算法，选择TNC则和fmin_tnc()类似\n",
    "\n",
    "jac：返回梯度向量的函数\n",
    "\n",
    "返回：\n",
    "\n",
    "返回优化结果对象，x：优化问题的目标数组。success: True表示成功与否，不成功会给出失败信息。\n"
   ]
  },
  {
   "cell_type": "code",
   "execution_count": 22,
   "metadata": {},
   "outputs": [
    {
     "data": {
      "text/plain": [
       "      fun: -7.945823375615215\n",
       " hess_inv: array([[0.08589237]])\n",
       "      jac: array([-1.1920929e-06])\n",
       "  message: 'Optimization terminated successfully.'\n",
       "     nfev: 18\n",
       "      nit: 5\n",
       "     njev: 6\n",
       "   status: 0\n",
       "  success: True\n",
       "        x: array([-1.30644012])"
      ]
     },
     "execution_count": 22,
     "metadata": {},
     "output_type": "execute_result"
    }
   ],
   "source": [
    "from scipy import optimize as opt\n",
    "import numpy as np\n",
    "def f(x):\n",
    "    return x**2 + 10*np.sin(x)\n",
    "\n",
    "x0=0;\n",
    "opt.minimize(f,x0)"
   ]
  },
  {
   "cell_type": "code",
   "execution_count": 21,
   "metadata": {},
   "outputs": [
    {
     "data": {
      "text/plain": [
       "      fun: 8.315585579478032\n",
       " hess_inv: array([[0.118692]])\n",
       "      jac: array([3.21865082e-06])\n",
       "  message: 'Optimization terminated successfully.'\n",
       "     nfev: 15\n",
       "      nit: 3\n",
       "     njev: 5\n",
       "   status: 0\n",
       "  success: True\n",
       "        x: array([3.83746748])"
      ]
     },
     "execution_count": 21,
     "metadata": {},
     "output_type": "execute_result"
    }
   ],
   "source": [
    "from scipy import optimize as opt\n",
    "import numpy as np\n",
    "def f(x):\n",
    "    return x**2 + 10*np.sin(x)\n",
    "\n",
    "x1=4\n",
    "opt.minimize(f,x1)"
   ]
  },
  {
   "cell_type": "markdown",
   "metadata": {},
   "source": [
    "## 暴力搜索算法opt.brute示例\n",
    "前面的算法可能因为初值选择不当，例如x1=4，结果得到的最小( 优化)值是函数的局部极小值，而不是全局极小值。为此还可以采用暴力搜索算法寻找全局最小值。例如"
   ]
  },
  {
   "cell_type": "code",
   "execution_count": 8,
   "metadata": {},
   "outputs": [
    {
     "name": "stdout",
     "output_type": "stream",
     "text": [
      "Optimization terminated successfully.\n",
      "         Current function value: -7.945823\n",
      "         Iterations: 11\n",
      "         Function evaluations: 22\n",
      "xmin= [-1.30641113] ,ymin= [-7.94582337]\n"
     ]
    }
   ],
   "source": [
    "import numpy as np\n",
    "def f(x):return x**2+10*np.sin(x)\n",
    "from scipy import optimize as opt\n",
    "grid=(-10,10,0.05)#切片\n",
    "xmin_global=opt.brute(f,(grid,),disp=True)\n",
    "ymin=f(xmin_global)\n",
    "print('xmin=',xmin_global,',ymin=',ymin)"
   ]
  },
  {
   "cell_type": "markdown",
   "metadata": {},
   "source": [
    "## 如果限定搜索区间可以用opt.fminbound寻找函数局部最小值的位置及极小值。例如\n"
   ]
  },
  {
   "cell_type": "code",
   "execution_count": 13,
   "metadata": {},
   "outputs": [
    {
     "name": "stdout",
     "output_type": "stream",
     "text": [
      "xmin1= 3.8374671194983834 ,ymin1= 8.31558557947746\n",
      "xmin2= -1.3064405641563348 ,ymin2= -7.945823375613483\n"
     ]
    }
   ],
   "source": [
    "import numpy as np\n",
    "def f(x):return x**2+10*np.sin(x)\n",
    "from scipy import optimize as opt\n",
    "xmin_local1=opt.fminbound(f,0,10)\n",
    "ymin1=f(xmin_local1)\n",
    "print('xmin1=',xmin_local1,',ymin1=',ymin1)\n",
    "xmin_local2=opt.fminbound(f,-10,0)\n",
    "ymin2=f(xmin_local2)\n",
    "print('xmin2=',xmin_local2,',ymin2=',ymin2)\n",
    "\n"
   ]
  },
  {
   "cell_type": "markdown",
   "metadata": {},
   "source": [
    "## 以x[0],x[1]代表两个自变量，寻找二元函数极小值举例\n",
    "\n"
   ]
  },
  {
   "cell_type": "code",
   "execution_count": 14,
   "metadata": {},
   "outputs": [
    {
     "name": "stdout",
     "output_type": "stream",
     "text": [
      "Optimization terminated successfully.\n",
      "         Current function value: 0.000000\n",
      "         Iterations: 8\n",
      "         Function evaluations: 9\n",
      "         Gradient evaluations: 9\n",
      "xmin= [1.00000582 1.00001285] ,zmin= 1.8414093407262628e-11\n"
     ]
    }
   ],
   "source": [
    "import numpy as np\n",
    "\n",
    "def f(x):\n",
    "    return 0.5*(1 - x[0])**2 + (x[1] - x[0]**2)**2 # rosenbrock函数\n",
    "\n",
    "def fp(x): \n",
    "    return np.array((-2*.5*(1 - x[0]) - 4*x[0]*(x[1] - x[0]**2), 2*(x[1] - x[0]**2)))#f(x)的导函数\n",
    "\n",
    "from scipy import optimize as opt\n",
    "\n",
    "x0=[2,2]#猜测的极小值位置初值\n",
    "\n",
    "xmin=opt.fmin_bfgs(f,x0,fprime=fp,disp=True)\n",
    "\n",
    "# opt.fmin_l_bfgs_b(f, x0, fprime=fp)或opt.fmin(f,x0)或opt.brute(f, ((-2, 3), (-2, 3)))\n",
    "\n",
    "# def hessian(x):return np.array(((1 - 4*x[1] + 12*x[0]**2, -4*x[0]), (-4*x[0], 2)))  是Jocobi矩阵\n",
    "\n",
    "# 或opt.fmin_ncg(f, [2, 2], fprime=fp, fhess=hessian）牛顿法\n",
    "\n",
    "zmin=f(xmin)\n",
    "print('xmin=',xmin,',zmin=',zmin)"
   ]
  },
  {
   "cell_type": "markdown",
   "metadata": {},
   "source": [
    "## 调用牛顿共轭梯度下降法求二元函数极小值举例"
   ]
  },
  {
   "cell_type": "code",
   "execution_count": 23,
   "metadata": {},
   "outputs": [
    {
     "name": "stdout",
     "output_type": "stream",
     "text": [
      "Optimization terminated successfully.\n",
      "         Current function value: 0.000000\n",
      "         Iterations: 9\n",
      "         Function evaluations: 11\n",
      "         Gradient evaluations: 19\n",
      "         Hessian evaluations: 9\n",
      "xmin= [1. 1.] ,zmin= 2.31290196365791e-26\n"
     ]
    }
   ],
   "source": [
    "import numpy as np\n",
    "\n",
    "def f(x):\n",
    "    return 0.5*(1 - x[0])**2 + (x[1] - x[0]**2)**2 # rosenbrock函数\n",
    "\n",
    "def fp(x): \n",
    "    return np.array((-2*.5*(1 - x[0]) - 4*x[0]*(x[1] - x[0]**2), 2*(x[1] - x[0]**2)))#f(x)的导函数\n",
    "\n",
    "def fpp(x):\n",
    "    return np.array(((1 - 4*x[1] + 12*x[0]**2, -4*x[0]), (-4*x[0], 2)))#f(x)的二阶导函数jacobi矩阵\n",
    "\n",
    "from scipy import optimize as opt\n",
    "\n",
    "x0=[2,2]#猜测的极小值位置初值\n",
    "xmin=opt.fmin_ncg(f,x0,fprime=fp,fhess=fpp)\n",
    "zmin=f(xmin);print('xmin=',xmin,',zmin=',zmin)"
   ]
  }
 ],
 "metadata": {
  "kernelspec": {
   "display_name": "Python 3",
   "language": "python",
   "name": "python3"
  },
  "language_info": {
   "codemirror_mode": {
    "name": "ipython",
    "version": 3
   },
   "file_extension": ".py",
   "mimetype": "text/x-python",
   "name": "python",
   "nbconvert_exporter": "python",
   "pygments_lexer": "ipython3",
   "version": "3.7.7"
  }
 },
 "nbformat": 4,
 "nbformat_minor": 4
}
