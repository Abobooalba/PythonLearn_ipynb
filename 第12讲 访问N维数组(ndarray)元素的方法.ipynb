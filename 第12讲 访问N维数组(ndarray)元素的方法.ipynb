{
 "cells": [
  {
   "cell_type": "markdown",
   "metadata": {},
   "source": [
    "# 第12讲 访问数组元素的方法 "
   ]
  },
  {
   "cell_type": "markdown",
   "metadata": {},
   "source": [
    "1.   数组整体被访问获参与运算，这是数组实例的最重要的特性。例如"
   ]
  },
  {
   "cell_type": "code",
   "execution_count": 1,
   "metadata": {},
   "outputs": [
    {
     "name": "stdout",
     "output_type": "stream",
     "text": [
      "[100 104 108 112 116]\n"
     ]
    },
    {
     "data": {
      "text/plain": [
       "array([10.        , 10.19803903, 10.39230485, 10.58300524, 10.77032961])"
      ]
     },
     "execution_count": 1,
     "metadata": {},
     "output_type": "execute_result"
    }
   ],
   "source": [
    "import numpy as np;\n",
    "x=np.arange(100,120,4);\n",
    "print(x)#整体输出\n",
    "np.sqrt(x)# 整体参与开放运算"
   ]
  },
  {
   "cell_type": "markdown",
   "metadata": {},
   "source": [
    "2.  数组的每个元素也可以被单独访问，例如"
   ]
  },
  {
   "cell_type": "code",
   "execution_count": 3,
   "metadata": {},
   "outputs": [
    {
     "data": {
      "text/plain": [
       "(100, 116, 112)"
      ]
     },
     "execution_count": 3,
     "metadata": {},
     "output_type": "execute_result"
    }
   ],
   "source": [
    "x[0],x[-1],x[3]"
   ]
  },
  {
   "cell_type": "markdown",
   "metadata": {},
   "source": [
    "3. 数组元素也可以被切片，即有规律的抽取部分数组元素，例如 "
   ]
  },
  {
   "cell_type": "code",
   "execution_count": null,
   "metadata": {},
   "outputs": [],
   "source": [
    "x[::2]"
   ]
  },
  {
   "cell_type": "markdown",
   "metadata": {},
   "source": [
    "4. 如果希望确定数组中有无给定数据，可以调用列表的index函数，或者调用列表的count函数。例如"
   ]
  },
  {
   "cell_type": "code",
   "execution_count": 4,
   "metadata": {},
   "outputs": [
    {
     "data": {
      "text/plain": [
       "(273, 25)"
      ]
     },
     "execution_count": 4,
     "metadata": {},
     "output_type": "execute_result"
    }
   ],
   "source": [
    "import numpy as np;\n",
    "x=np.random.randint(100,5000,100000);\n",
    "v=1234;\n",
    "list(x).index(v),list(x).count(v) #v在x中首次出现的索引和出现失误总次数\n"
   ]
  },
  {
   "cell_type": "markdown",
   "metadata": {},
   "source": [
    "5. 自定义查找函数serch,可以从数据容器示例中以给定误差阈值查找指定数据v出现的位置p及次数ct。\n"
   ]
  },
  {
   "cell_type": "code",
   "execution_count": 21,
   "metadata": {},
   "outputs": [],
   "source": [
    "import numpy as np\n",
    "def search(v,error,*x):\n",
    "    \"\"\"\n",
    "    search  v in the  x on error\n",
    "    e.g    search(12, 1e-10, array([10,11,12,13,14,15,156,12,100]))\n",
    "    \"\"\"\n",
    "    p=[]\n",
    "    ct=0\n",
    "    for i in range(len(x)):\n",
    "        if np.abs(v-x[i])<error:\n",
    "                  p.append(i)\n",
    "                  ct+=1\n",
    "    return ct,p"
   ]
  },
  {
   "cell_type": "code",
   "execution_count": 23,
   "metadata": {},
   "outputs": [
    {
     "data": {
      "text/plain": [
       "(4, [2, 5, 8, 9])"
      ]
     },
     "execution_count": 23,
     "metadata": {},
     "output_type": "execute_result"
    }
   ],
   "source": [
    "search(12,1e-10,*np.array([10,11,12,34,56,12,78,100,12,12]))"
   ]
  },
  {
   "cell_type": "markdown",
   "metadata": {},
   "source": [
    "## 数组的布尔面具与数组元素的条件选取\n",
    "\n",
    "利用布尔面具，可以从数组中选出需要的部分元素。\n",
    "例如 从数组中选出索引为偶数的元素：\n",
    "\n",
    "方法1：“手工”利构造布尔面具m,利用数组实例名[面具名]选出偶数索引的元素"
   ]
  },
  {
   "cell_type": "code",
   "execution_count": 30,
   "metadata": {},
   "outputs": [
    {
     "data": {
      "text/plain": [
       "array([ 0,  2,  4,  6,  8, 10, 12, 14, 16, 18])"
      ]
     },
     "execution_count": 30,
     "metadata": {},
     "output_type": "execute_result"
    }
   ],
   "source": [
    "import numpy as np;\n",
    "x=np.arange(20);\n",
    "m=np.zeros(len(x));\n",
    "m2=np.ones(len(x)//2);\n",
    "m[::2]=m2;\n",
    "m=m.astype(bool)\n",
    "x[m]"
   ]
  },
  {
   "cell_type": "markdown",
   "metadata": {},
   "source": [
    "方法2：快速构造布尔面具，利用数组实例名[面具名]选出偶数索引的元素"
   ]
  },
  {
   "cell_type": "code",
   "execution_count": 31,
   "metadata": {},
   "outputs": [
    {
     "name": "stdout",
     "output_type": "stream",
     "text": [
      "[ 0  2  4  6  8 10 12 14 16 18]\n"
     ]
    }
   ],
   "source": [
    "import numpy as np;\n",
    "x=np.arange(20);\n",
    "m=x%2==0; \n",
    "print(x[m])"
   ]
  },
  {
   "cell_type": "markdown",
   "metadata": {},
   "source": [
    "从40个均匀分布的随机数中选出位于指定区间内的部分随机数："
   ]
  },
  {
   "cell_type": "code",
   "execution_count": 32,
   "metadata": {},
   "outputs": [
    {
     "data": {
      "text/plain": [
       "array([0.04197492, 0.97972464, 0.33842348, 0.40663384, 0.18663266,\n",
       "       0.61182049, 0.2163726 , 0.20479317, 0.15242836, 0.1809454 ,\n",
       "       0.41402852, 0.13779566, 0.62969691, 0.44663986, 0.07764552,\n",
       "       0.82419269, 0.94078979, 0.20564076, 0.05618579, 0.63818607,\n",
       "       0.45140126, 0.87661016, 0.99729184, 0.33878349, 0.4841706 ,\n",
       "       0.1104945 , 0.02321871, 0.0796316 , 0.55985709, 0.24493716,\n",
       "       0.74650776, 0.91330275, 0.02217366, 0.0058122 , 0.0744859 ,\n",
       "       0.56610396, 0.41281226, 0.52647333, 0.8374859 , 0.04078616,\n",
       "       0.90773388, 0.90473693, 0.60773514, 0.46850794, 0.83206998,\n",
       "       0.30831548, 0.30499138, 0.12113268, 0.99461747, 0.09230082,\n",
       "       0.36330236, 0.42406489, 0.88591493, 0.52309563, 0.89065786,\n",
       "       0.26753568, 0.70910878, 0.59006531, 0.77718169, 0.56419132,\n",
       "       0.03943047, 0.66942155, 0.33641573, 0.73994514, 0.91170988,\n",
       "       0.39716574, 0.11273672, 0.09577374, 0.28234086, 0.28186268,\n",
       "       0.92782562, 0.39913283, 0.60455683, 0.22246247, 0.82894615,\n",
       "       0.3248726 , 0.58957713, 0.52282081, 0.28374355, 0.58549589,\n",
       "       0.88981273, 0.90415921, 0.67083658, 0.29389677, 0.95949356,\n",
       "       0.80578682, 0.06375892, 0.71249497, 0.3558347 , 0.10029401,\n",
       "       0.6015927 , 0.56934777, 0.36078624, 0.85705643, 0.28679406,\n",
       "       0.99415381, 0.84093795, 0.39410951, 0.65398249, 0.57296554])"
      ]
     },
     "execution_count": 32,
     "metadata": {},
     "output_type": "execute_result"
    }
   ],
   "source": [
    "import numpy as np;\n",
    "num=np.random.uniform(0,1,100);\n",
    "num"
   ]
  }
 ],
 "metadata": {
  "kernelspec": {
   "display_name": "Python 3",
   "language": "python",
   "name": "python3"
  },
  "language_info": {
   "codemirror_mode": {
    "name": "ipython",
    "version": 3
   },
   "file_extension": ".py",
   "mimetype": "text/x-python",
   "name": "python",
   "nbconvert_exporter": "python",
   "pygments_lexer": "ipython3",
   "version": "3.7.7"
  }
 },
 "nbformat": 4,
 "nbformat_minor": 4
}
