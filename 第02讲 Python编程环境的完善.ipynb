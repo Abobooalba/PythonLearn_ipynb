{
 "cells": [
  {
   "cell_type": "markdown",
   "metadata": {},
   "source": [
    "# 第02讲 Python编程环境的完善"
   ]
  },
  {
   "cell_type": "markdown",
   "metadata": {},
   "source": [
    "## 为何需要安装扩展包？\n",
    "只有内嵌包的Python功能很有限，例如要求100万个数据的标准差和方差，用Python的基本功能比较困难或效率低，如果用循环来实现需要的程序如下："
   ]
  },
  {
   "cell_type": "code",
   "execution_count": 4,
   "metadata": {},
   "outputs": [],
   "source": [
    "import math\n",
    "def var_std(*data):\n",
    "    L=len(data);  \n",
    "    s=0\n",
    "    for i in range(L): \n",
    "        s+=data[i]\n",
    "    m=s/L\n",
    "    t=0   \n",
    "    for i in range(L): \n",
    "        t+=(data[i]-m)**2\n",
    "    var=t/L;   \n",
    "    std=math.sqrt(var)\n",
    "    return (m,var,std)"
   ]
  },
  {
   "cell_type": "code",
   "execution_count": 3,
   "metadata": {},
   "outputs": [
    {
     "name": "stdout",
     "output_type": "stream",
     "text": [
      "256.028 19572.72521599999 139.90255614533993\n",
      "3.19 ms ± 110 µs per loop (mean ± std. dev. of 7 runs, 100 loops each)\n"
     ]
    }
   ],
   "source": [
    "import numpy as np\n",
    "x=np.random.randint(1,500,1000)\n",
    "(mean,var,std)=var_std(*x)   \n",
    "print(mean,var,std)\n",
    "%timeit  (mean,var,std)=var_std(*x)   \n",
    "#%timeit测试一行代码的运行时间"
   ]
  },
  {
   "attachments": {},
   "cell_type": "markdown",
   "metadata": {},
   "source": [
    "如果给Python安装了数组扩展包numpy, 对100万个数据计算就变得非常简单，需要的代码为："
   ]
  },
  {
   "cell_type": "code",
   "execution_count": 5,
   "metadata": {},
   "outputs": [
    {
     "name": "stdout",
     "output_type": "stream",
     "text": [
      "21003.032064000003 144.92422869899983\n",
      "48.3 µs ± 1.24 µs per loop (mean ± std. dev. of 7 runs, 10000 loops each)\n"
     ]
    }
   ],
   "source": [
    "import numpy as np\n",
    "data=np.random.randint(1,500,1000);\n",
    "var,std=data.var(),data.std()\n",
    "print(var,std)\n",
    "%timeit var,std=data.var(),data.std()"
   ]
  },
  {
   "cell_type": "markdown",
   "metadata": {},
   "source": [
    "比较发现：有数组包时的运算比没有数组包时的运算快了很多倍。 鉴于此，我们必须给python装上更多的轮子(wheel,即扩展包或模块)，Python才能飞跑起来！"
   ]
  },
  {
   "cell_type": "markdown",
   "metadata": {},
   "source": [
    "## 需要安装的扩展包(wheel)\n",
    "\n",
    "构建一个比较强大的Python编程平台，至少需要安装的模块\n",
    "\n",
    "* ipython 7.13.0，依赖ipykernel,pickleshare, pygments, setuptools, traitlets, jedi, prompt-toolkit, colorama, backcall, decorator。为jupyter-console, ipywidgets所需。富有成效的交互式计算.\n",
    "* numpy 1.18.1，为wxPython, vispy, statsmodels, spectral, seaborn, scipy, scikit-learn, response, PyWavelets, patsy, pandas, mayavi, * matplotlib, imread, imageio, FiPy所需。NumPy是Python用于数组计算的基础包。\n",
    "* scipy 1.4.1,依赖statsmodels, seaborn, scikit-learn, scikit-image, response, FiPy。Python科学库. \n",
    "* sympy  1.5.1 mpmath，用Python编写的计算机代数系统(CAS)\n",
    "* matplotlib  3.2.0，seaborn, scikit-image, response, FiPy，Python2D画图包。\n",
    "* mayavi 4.7.1  依赖backend,traits, traitsui, numpy, apptools, vtk, envisage, pygments, pyface,PyQt5。三维科学数据可视化库及其应用。\n",
    "imread  0.7.1，依赖numpy。图像库读取。\n",
    "* scikit-image(别名skimage) 0.16.2，依赖imageio, matplotlib, networkx, PyWavelets, scipy, pillow。SciPy的图像处理例程。\n",
    "* xlrd 1.2.0，为xlutils所需。用于从microsoft excel (tm)电子表格文件中读取数据的库。\n",
    "* xlwt 1.3.0，为xlutils所需。创建与MS Excel 97/2000/XP/2003 XLS文件兼容的电子表格文件的库。\n",
    "* scikit-learn(别名sklearn) 0.22.2.post1，依赖 scipy, joblib, numpy。一组用于机器学习和数据挖掘的python模块。\n"
   ]
  },
  {
   "cell_type": "markdown",
   "metadata": {},
   "source": [
    "## 扩展包安装方法"
   ]
  }
 ],
 "metadata": {
  "kernelspec": {
   "display_name": "Python 3",
   "language": "python",
   "name": "python3"
  },
  "language_info": {
   "codemirror_mode": {
    "name": "ipython",
    "version": 3
   },
   "file_extension": ".py",
   "mimetype": "text/x-python",
   "name": "python",
   "nbconvert_exporter": "python",
   "pygments_lexer": "ipython3",
   "version": "3.7.7"
  }
 },
 "nbformat": 4,
 "nbformat_minor": 4
}
