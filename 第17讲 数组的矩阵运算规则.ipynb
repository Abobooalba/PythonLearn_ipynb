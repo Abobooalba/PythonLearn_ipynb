{
 "cells": [
  {
   "cell_type": "markdown",
   "metadata": {},
   "source": [
    "# 第17讲 数组的矩阵运算规则\n",
    "\n",
    "数组a==> np.mat(a)==>矩阵a"
   ]
  },
  {
   "cell_type": "code",
   "execution_count": 1,
   "metadata": {},
   "outputs": [
    {
     "name": "stdout",
     "output_type": "stream",
     "text": [
      "一维数组a= [ 0  1  2  3  4  5  6  7  8  9 10 11 12 13 14 15]\n",
      "矩阵 b= [[ 0  1  2  3  4  5  6  7  8  9 10 11 12 13 14 15]]\n"
     ]
    }
   ],
   "source": [
    "import numpy as np\n",
    "a=np.arange(16);\n",
    "b=np.mat(a);\n",
    "print('一维数组a=',a);\n",
    "print('矩阵 b=',b)"
   ]
  },
  {
   "cell_type": "markdown",
   "metadata": {},
   "source": [
    "矩阵运算：定义了矩阵运算规则的二维数组称为矩阵。无论数组还是矩阵，各行的列数必须相同，各列的行数必须相同。\n",
    "\n",
    "## 矩阵运算(整体运算)（+，-，dot,inv,svd,eigvalues,...)\n",
    "\n",
    "左列数与右行数相等的两个二维数组可以以矩阵规则做乘法即dot运算。数组参与矩阵乘法时，一维数组和单列二维数组都视为列向量。\n",
    "\n",
    "行列数相等的数组（方阵）可以求逆（用于解线性代数方程组）、可以做奇异值分解、可以求特(本)征值及特(本)征向(矢)量。\n",
    "\n",
    "* 科学研究最基本的问题之一是解多元线性代数方程组。\n",
    "\n",
    "* 科学研究最基本的问题之二是解高阶线性常微分方程。高阶线性常微分方程可以转化为线性常微分方程组。线性常微分方程组又可以转化成矩阵的特征值问题。\n",
    "\n",
    "因此，解线性常微分方程组和线性高阶微分方程的问题，都可以通过矩阵特征值问题求解来解决。\n",
    "   \n",
    "**科研的基本问题大多归结为解线性代数方程组和方阵的特征值问题。**\n",
    "\n"
   ]
  },
  {
   "cell_type": "code",
   "execution_count": null,
   "metadata": {},
   "outputs": [],
   "source": []
  },
  {
   "cell_type": "markdown",
   "metadata": {},
   "source": [
    "## 矩阵加减运算\n",
    "\n",
    "两个矩阵结构相同，或者行数相同或者列数相同，就可以做加减运算，而且，运算时默认自动广播到两个结构相同为止，然后在对应位置元素之间的加减运算。在前面学习数组加减法时已经知晓。矩阵加法与数组加法完全相同。\n",
    "\n",
    "一维数组和单列矩阵（数组）都称为列向量。单行矩阵（数组）称为行向量。\n",
    "\n",
    "同结构列向量可以加减，同结构行向量可以加减。\n",
    "\n",
    "行向量与列向量加减（因数组广播特性）将生成多行多列矩阵( 数组)。\n",
    "\n",
    "矩阵可以加减常数，运算后结构不变。\n",
    "\n",
    "两个既不同行也不同列的矩阵不能加减！"
   ]
  },
  {
   "cell_type": "code",
   "execution_count": 9,
   "metadata": {},
   "outputs": [
    {
     "name": "stdout",
     "output_type": "stream",
     "text": [
      "a+b= [[11 22 33]\n",
      " [14 25 36]]\n",
      "b-a= [[ 9 18 27]\n",
      " [ 6 15 24]]\n",
      "a+1000= [[1001 1002 1003]\n",
      " [1004 1005 1006]]\n",
      "b+c= [[110 120 130]\n",
      " [210 220 230]]\n"
     ]
    }
   ],
   "source": [
    "import numpy as np;\n",
    "a=np.array([[1,2,3],[4,5,6]]);\n",
    "b=np.array([[10,20,30]]);\n",
    "c=np.array([[100],[200]])\n",
    "print('a+b=',a+b);\n",
    "print('b-a=',b-a);\n",
    "print('a+1000=',a+1000);\n",
    "print('b+c=',b+c)"
   ]
  },
  {
   "cell_type": "markdown",
   "metadata": {},
   "source": [
    "## 矩阵的行列式np.linalg.linalg.det \n",
    "## 矩阵的秩np.linalg.linalg.matrix_rank\n",
    "## 矩阵的迹np.trace\n",
    "## 方阵的行列式det"
   ]
  },
  {
   "cell_type": "code",
   "execution_count": 6,
   "metadata": {},
   "outputs": [
    {
     "name": "stdout",
     "output_type": "stream",
     "text": [
      "a= [[  2   1   3]\n",
      " [  4   5 -10]\n",
      " [  2   3  -4]]\n",
      "矩阵的行列式det(a)= 22.000000000000004\n",
      "矩阵的迹trace(a)= 3\n",
      "矩阵的秩matrix_rank(a)= 3\n"
     ]
    }
   ],
   "source": [
    "\n",
    "import numpy as np;\n",
    "a=np.array([[2,1,3],[4,5,-10],[2,3,-4]])\n",
    "print('a=',a);\n",
    "print('矩阵的行列式det(a)=',np.linalg.linalg.det(a));\n",
    "\n",
    "print('矩阵的迹trace(a)=',np.trace(a));\n",
    "\n",
    "print('矩阵的秩matrix_rank(a)=',np.linalg.linalg.matrix_rank(a))\n"
   ]
  },
  {
   "cell_type": "markdown",
   "metadata": {},
   "source": [
    "## 两数组或矩阵的向量点积vdot\n",
    "\n",
    "np.vdot(a,b)要求a和b的元数数量相同，先取a的复共轭，再做对应位置元素乘积，最后对所有乘积项求和，结果得到一个标量。\n",
    "$$\n",
    "np.vdot(a,b)\n",
    "\n",
    "\\sum_ka_k^*b_k\n",
    "$$\n",
    "或者说先将a和b都展平为一维数组，取a的复共轭，然后对应位置乘积，最后求和。例如"
   ]
  },
  {
   "cell_type": "code",
   "execution_count": 10,
   "metadata": {},
   "outputs": [
    {
     "data": {
      "text/plain": [
       "(1450+0j)"
      ]
     },
     "execution_count": 10,
     "metadata": {},
     "output_type": "execute_result"
    }
   ],
   "source": [
    "import numpy as np;\n",
    "a=np.arange(48).reshape(4,3,4);\n",
    "b=np.arange(10,481,10).reshape(4,2,2,3);\n",
    "np.vdot(a,b),np.vdot(b,a)\n",
    "c=np.arange(3,13)+1j*np.arange(13,3,-1);\n",
    "np.vdot(c,c)"
   ]
  },
  {
   "cell_type": "markdown",
   "metadata": {},
   "source": [
    "## dot是二维矩阵之间的乘法运算\n",
    "\n",
    "如果a是m行n列矩阵(数组),b是p行q列矩阵(数组)，则仅当n=p时，两个个矩阵才能做点乘运算，其结果是一个m行q列的矩阵。即\n",
    "换句话说，仅当前列数等于后行数的两个二维矩阵才能做点积运算，结果任然是一个二维矩阵。\n",
    "\n",
    "有两层方括号的单行、单列矩阵(数组)的维数等于2.\n",
    "有一层方括号的数组，可以扮演一个单列矩阵(数组)的角色。"
   ]
  },
  {
   "cell_type": "code",
   "execution_count": 16,
   "metadata": {},
   "outputs": [
    {
     "name": "stdout",
     "output_type": "stream",
     "text": [
      "a= [[1 2]\n",
      " [3 4]\n",
      " [5 6]]\n",
      "b= [[10 20 30 40 50]\n",
      " [12 23 34 45 56]]\n",
      "a.b= [[ 34  66  98 130 162]\n",
      " [ 78 152 226 300 374]\n",
      " [122 238 354 470 586]]\n",
      "a.d= [[ 500]\n",
      " [1100]\n",
      " [1700]]\n"
     ]
    }
   ],
   "source": [
    "a=np.array([[1,2],[3,4],[5,6]]);\n",
    "b=np.array([[10,20,30,40,50],[12,23,34,45,56]]);\n",
    "c=a.dot(b); \n",
    "d=np.array([[100],[200]]);\n",
    "e=np.dot(a,d)\n",
    "print('a=',a);\n",
    "print('b=',b);\n",
    "print('a.b=',c);\n",
    "print('a.d=',e)\n",
    "# a.b可以用a.dot(b)和np.dot(a,b)两种方式实现。"
   ]
  },
  {
   "cell_type": "markdown",
   "metadata": {},
   "source": [
    "## Python也定义了高维数组间的dot（乘积之和）运算。\n",
    "\n",
    "a.b要求a的最后一维的大小等于b的倒数第二维的大小。"
   ]
  },
  {
   "cell_type": "code",
   "execution_count": 17,
   "metadata": {},
   "outputs": [
    {
     "name": "stdout",
     "output_type": "stream",
     "text": [
      "a= [[[ 1  2  3  4]\n",
      "  [ 5  6  7  8]\n",
      "  [ 9 10 11 12]]\n",
      "\n",
      " [[13 14 15 16]\n",
      "  [17 18 19 20]\n",
      "  [21 22 23 24]]]\n",
      "b= [[[25 24 23]\n",
      "  [22 21 20]\n",
      "  [19 18 17]\n",
      "  [16 15 14]]\n",
      "\n",
      " [[13 12 11]\n",
      "  [10  9  8]\n",
      "  [ 7  6  5]\n",
      "  [ 4  3  2]]]\n",
      "a.b= [[[[ 190  180  170]\n",
      "   [  70   60   50]]\n",
      "\n",
      "  [[ 518  492  466]\n",
      "   [ 206  180  154]]\n",
      "\n",
      "  [[ 846  804  762]\n",
      "   [ 342  300  258]]]\n",
      "\n",
      "\n",
      " [[[1174 1116 1058]\n",
      "   [ 478  420  362]]\n",
      "\n",
      "  [[1502 1428 1354]\n",
      "   [ 614  540  466]]\n",
      "\n",
      "  [[1830 1740 1650]\n",
      "   [ 750  660  570]]]]\n"
     ]
    }
   ],
   "source": [
    "import numpy as np;\n",
    "ar=np.array\n",
    "a=ar(range(1,25)).reshape(2,3,4);\n",
    "b=ar(range(25,1,-1)).reshape(2,4,3)\n",
    "c=np.dot(a,b)\n",
    "print('a=',a);\n",
    "print('b=',b)\n",
    "print('a.b=',c)"
   ]
  },
  {
   "cell_type": "markdown",
   "metadata": {},
   "source": [
    "## numpy定义了多种乘积再求和的运算\n",
    "\n",
    "dot :左数组的最后一维与右数组的倒数第二维对应位置元素相乘再求和\n",
    "\n",
    "inner:左数组的最后一维与右数组的最后一维对应位置元素相乘再求和\n",
    "\n",
    "tensordot:两个数组关于指定轴axis的对应位置元素乘积再求和，即\n",
    "\n",
    "np.dot(a,b)=np.tensordot(a,b,(-1,-2))# as=(-1,-2)如果b是一维的-2就是-1\n",
    "\n",
    "np.inner(a,b)=np.tensordot(a,b,(-1,-1))#axis=(-1,-1)\n",
    "\n",
    "可见三种乘积和运算都可以归结为tensordot(a,b,(n,m)),关键是两个数组参与乘积和运算的对应轴axis的大小必须相等才能配对相乘。\n",
    "\n",
    "注意： dot,inner,tensordot 三个函数都在np名字空间的第一层。"
   ]
  },
  {
   "cell_type": "markdown",
   "metadata": {},
   "source": [
    "## 数组的外积np.multiply.outer()\n",
    "\n",
    "两个一维数组的外积是一个二维数组。例如"
   ]
  },
  {
   "cell_type": "code",
   "execution_count": 19,
   "metadata": {},
   "outputs": [
    {
     "data": {
      "text/plain": [
       "array([[ 253,  374,  495],\n",
       "       [ 506,  748,  990],\n",
       "       [ 759, 1122, 1485],\n",
       "       [1012, 1496, 1980]])"
      ]
     },
     "execution_count": 19,
     "metadata": {},
     "output_type": "execute_result"
    }
   ],
   "source": [
    "import numpy as np;\n",
    "a=np.array([1,2,3]);\n",
    "b=np.array([2,3,4]);\n",
    "c=np.multiply.outer(a,b);\n",
    "d=np.multiply.outer(b,a);\n",
    "print(c)\n",
    "print(d)"
   ]
  },
  {
   "cell_type": "markdown",
   "metadata": {},
   "source": [
    " n 维数组与m 维数组的外积(outer)给出一个 m+n 维数组。 \n",
    " \n",
    " 外积结果的维数为m+n，而点积、内积、张量积的结果维数为m+n-2。\n",
    " \n",
    " 例如 "
   ]
  },
  {
   "cell_type": "code",
   "execution_count": 23,
   "metadata": {},
   "outputs": [
    {
     "name": "stdout",
     "output_type": "stream",
     "text": [
      "[[[[ 10  20  30  40  50]\n",
      "   [ 70  80  90 100 110]]\n",
      "\n",
      "  [[ 20  40  60  80 100]\n",
      "   [140 160 180 200 220]]\n",
      "\n",
      "  [[ 30  60  90 120 150]\n",
      "   [210 240 270 300 330]]]\n",
      "\n",
      "\n",
      " [[[ 40  80 120 160 200]\n",
      "   [280 320 360 400 440]]\n",
      "\n",
      "  [[ 50 100 150 200 250]\n",
      "   [350 400 450 500 550]]\n",
      "\n",
      "  [[ 60 120 180 240 300]\n",
      "   [420 480 540 600 660]]]\n",
      "\n",
      "\n",
      " [[[ 70 140 210 280 350]\n",
      "   [490 560 630 700 770]]\n",
      "\n",
      "  [[ 80 160 240 320 400]\n",
      "   [560 640 720 800 880]]\n",
      "\n",
      "  [[ 90 180 270 360 450]\n",
      "   [630 720 810 900 990]]]]\n"
     ]
    }
   ],
   "source": [
    "a=ar([[1,2,3],[4,5,6],[7,8,9]]);\n",
    "b=ar([[10,20,30,40,50],[70,80,90,100,110]]);\n",
    "c=np.multiply.outer(a,b);\n",
    "print(c)"
   ]
  }
 ],
 "metadata": {
  "kernelspec": {
   "display_name": "Python 3",
   "language": "python",
   "name": "python3"
  },
  "language_info": {
   "codemirror_mode": {
    "name": "ipython",
    "version": 3
   },
   "file_extension": ".py",
   "mimetype": "text/x-python",
   "name": "python",
   "nbconvert_exporter": "python",
   "pygments_lexer": "ipython3",
   "version": "3.7.7"
  }
 },
 "nbformat": 4,
 "nbformat_minor": 4
}
