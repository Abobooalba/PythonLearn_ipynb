{
 "cells": [
  {
   "cell_type": "markdown",
   "metadata": {},
   "source": [
    "# 第11讲 N维数组(ndarray)实例的reshape"
   ]
  },
  {
   "cell_type": "code",
   "execution_count": 2,
   "metadata": {},
   "outputs": [
    {
     "name": "stdout",
     "output_type": "stream",
     "text": [
      "[100 101 102 103 104 105 106 107 108 109 110 111 112 113 114 115 116 117\n",
      " 118 119 120 121 122 123 124 125 126 127 128 129 130 131 132 133 134 135\n",
      " 136 137 138 139 140 141 142 143 144 145 146 147 148 149 150 151 152 153\n",
      " 154 155 156 157 158 159 160 161 162 163 164 165 166 167 168 169 170 171\n",
      " 172 173 174 175 176 177 178 179 180 181 182 183 184 185 186 187 188 189\n",
      " 190 191 192 193 194 195 196 197 198 199]\n"
     ]
    }
   ],
   "source": [
    "import numpy as np\n",
    "x=np.arange(100,200,1)\n",
    "print(x)"
   ]
  },
  {
   "cell_type": "code",
   "execution_count": 3,
   "metadata": {},
   "outputs": [
    {
     "data": {
      "text/plain": [
       "array([10.        , 10.04987562, 10.09950494, 10.14889157, 10.19803903,\n",
       "       10.24695077, 10.29563014, 10.34408043, 10.39230485, 10.44030651,\n",
       "       10.48808848, 10.53565375, 10.58300524, 10.63014581, 10.67707825,\n",
       "       10.72380529, 10.77032961, 10.81665383, 10.86278049, 10.90871211,\n",
       "       10.95445115, 11.        , 11.04536102, 11.09053651, 11.13552873,\n",
       "       11.18033989, 11.22497216, 11.26942767, 11.3137085 , 11.35781669,\n",
       "       11.40175425, 11.44552314, 11.48912529, 11.53256259, 11.5758369 ,\n",
       "       11.61895004, 11.66190379, 11.70469991, 11.74734012, 11.78982612,\n",
       "       11.83215957, 11.87434209, 11.91637529, 11.95826074, 12.        ,\n",
       "       12.04159458, 12.08304597, 12.12435565, 12.16552506, 12.20655562,\n",
       "       12.24744871, 12.28820573, 12.32882801, 12.36931688, 12.40967365,\n",
       "       12.4498996 , 12.489996  , 12.52996409, 12.56980509, 12.60952021,\n",
       "       12.64911064, 12.68857754, 12.72792206, 12.76714533, 12.80624847,\n",
       "       12.84523258, 12.88409873, 12.92284798, 12.9614814 , 13.        ,\n",
       "       13.03840481, 13.07669683, 13.11487705, 13.15294644, 13.19090596,\n",
       "       13.22875656, 13.26649916, 13.3041347 , 13.34166406, 13.37908816,\n",
       "       13.41640786, 13.45362405, 13.49073756, 13.52774926, 13.56465997,\n",
       "       13.60147051, 13.6381817 , 13.67479433, 13.7113092 , 13.74772708,\n",
       "       13.78404875, 13.82027496, 13.85640646, 13.89244399, 13.92838828,\n",
       "       13.96424004, 14.        , 14.03566885, 14.07124728, 14.10673598])"
      ]
     },
     "execution_count": 3,
     "metadata": {},
     "output_type": "execute_result"
    }
   ],
   "source": [
    "np.sqrt(x)"
   ]
  },
  {
   "cell_type": "code",
   "execution_count": 4,
   "metadata": {},
   "outputs": [
    {
     "data": {
      "text/plain": [
       "array([100, 102, 104, 106, 108, 110, 112, 114, 116, 118, 120, 122, 124,\n",
       "       126, 128, 130, 132, 134, 136, 138, 140, 142, 144, 146, 148, 150,\n",
       "       152, 154, 156, 158, 160, 162, 164, 166, 168, 170, 172, 174, 176,\n",
       "       178, 180, 182, 184, 186, 188, 190, 192, 194, 196, 198])"
      ]
     },
     "execution_count": 4,
     "metadata": {},
     "output_type": "execute_result"
    }
   ],
   "source": [
    "index=np.array([True,False]*50)\n",
    "x[index]"
   ]
  },
  {
   "cell_type": "code",
   "execution_count": 5,
   "metadata": {},
   "outputs": [
    {
     "data": {
      "text/plain": [
       "array([100, 102, 104, 106, 108, 110, 112, 114, 116, 118, 120, 122, 124,\n",
       "       126, 128, 130, 132, 134, 136, 138, 140, 142, 144, 146, 148])"
      ]
     },
     "execution_count": 5,
     "metadata": {},
     "output_type": "execute_result"
    }
   ],
   "source": [
    "x[0:50:2]"
   ]
  },
  {
   "cell_type": "code",
   "execution_count": 6,
   "metadata": {},
   "outputs": [
    {
     "data": {
      "text/plain": [
       "(69, 1)"
      ]
     },
     "execution_count": 6,
     "metadata": {},
     "output_type": "execute_result"
    }
   ],
   "source": [
    "list(x).index(169),list(x).count(169)"
   ]
  },
  {
   "cell_type": "code",
   "execution_count": 7,
   "metadata": {},
   "outputs": [
    {
     "name": "stdout",
     "output_type": "stream",
     "text": [
      "[[ 1  2  3  4]\n",
      " [ 5  6  7  8]\n",
      " [ 9 10 11 12]] (3, 4)\n",
      "[[ 1  2  3]\n",
      " [ 4  5  6]\n",
      " [ 7  8  9]\n",
      " [10 11 12]]\n",
      "[[ 1  2  3  4  5  6]\n",
      " [ 7  8  9 10 11 12]]\n"
     ]
    }
   ],
   "source": [
    "c = np.array([[1, 2, 3, 4],[ 5, 6, 7,8], [ 9, 10,11,12]])\n",
    "print(c,c.shape)\n",
    "c.shape=4,3\n",
    "print(c)\n",
    "c.shape=2,-1\n",
    "print(c)"
   ]
  },
  {
   "cell_type": "code",
   "execution_count": 9,
   "metadata": {},
   "outputs": [
    {
     "data": {
      "text/plain": [
       "array([[ 1,  2],\n",
       "       [ 3,  4],\n",
       "       [ 5,  6],\n",
       "       [ 7,  8],\n",
       "       [ 9, 10],\n",
       "       [11, 12]])"
      ]
     },
     "execution_count": 9,
     "metadata": {},
     "output_type": "execute_result"
    }
   ],
   "source": [
    "d=c.reshape(6,2)\n",
    "d"
   ]
  },
  {
   "cell_type": "code",
   "execution_count": 10,
   "metadata": {},
   "outputs": [],
   "source": [
    "import numpy as np\n",
    "def search(v,error,*x):\n",
    "    \"\"\"Search V in * X on Error!\n",
    "    e.g searcg(15,0.0001,*[13,14.99999999,17,230])\n",
    "    \"\"\"\n",
    "    p=[]\n",
    "    ct=0\n",
    "    for i in range(len(x)):\n",
    "        if np.abs(v-x[i])<error:\n",
    "            p.append(i)\n",
    "            ct+=1\n",
    "    return ct,p\n"
   ]
  },
  {
   "cell_type": "code",
   "execution_count": 11,
   "metadata": {},
   "outputs": [
    {
     "name": "stdout",
     "output_type": "stream",
     "text": [
      "Variable   Type        Data/Info\n",
      "--------------------------------\n",
      "c          ndarray     2x6: 12 elems, type `int32`, 48 bytes\n",
      "d          ndarray     6x2: 12 elems, type `int32`, 48 bytes\n",
      "index      ndarray     100: 100 elems, type `bool`, 100 bytes\n",
      "np         module      <module 'numpy' from 'C:\\<...>ges\\\\numpy\\\\__init__.py'>\n",
      "search     function    <function search at 0x000001E17C282438>\n",
      "x          ndarray     100: 100 elems, type `int32`, 400 bytes\n"
     ]
    },
    {
     "data": {
      "text/plain": [
       "(5, [2, 3, 4, 7, 9])"
      ]
     },
     "execution_count": 11,
     "metadata": {},
     "output_type": "execute_result"
    }
   ],
   "source": [
    "%whos\n",
    "search(14.0,0.1,*[11,12,13.999,14,14.0001,15,-12,14,-16,14,100])"
   ]
  },
  {
   "cell_type": "code",
   "execution_count": 12,
   "metadata": {},
   "outputs": [
    {
     "name": "stdout",
     "output_type": "stream",
     "text": [
      "Help on function search in module __main__:\n",
      "\n",
      "search(v, error, *x)\n",
      "    Search V in * X on Error!\n",
      "    e.g searcg(15,0.0001,*[13,14.99999999,17,230])\n",
      "\n"
     ]
    }
   ],
   "source": [
    "help(search)"
   ]
  }
 ],
 "metadata": {
  "kernelspec": {
   "display_name": "Python 3",
   "language": "python",
   "name": "python3"
  },
  "language_info": {
   "codemirror_mode": {
    "name": "ipython",
    "version": 3
   },
   "file_extension": ".py",
   "mimetype": "text/x-python",
   "name": "python",
   "nbconvert_exporter": "python",
   "pygments_lexer": "ipython3",
   "version": "3.7.7"
  }
 },
 "nbformat": 4,
 "nbformat_minor": 4
}
