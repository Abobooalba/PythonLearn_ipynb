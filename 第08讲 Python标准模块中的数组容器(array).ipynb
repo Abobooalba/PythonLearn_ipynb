{
 "cells": [
  {
   "cell_type": "markdown",
   "metadata": {},
   "source": [
    "# 第08讲 Python标准模块中的数组容器(array）"
   ]
  },
  {
   "cell_type": "markdown",
   "metadata": {},
   "source": [
    "\n",
    "## Python 标准模块自带的数组容器(array）\n",
    "\n",
    "array:模块定义了一种对象类型，可以紧凑地表示基本类型值的数组：字符、整数、浮点数等。 数组属于序列类型，其行为与列表非常相似，不同之处在于其中存储的对象类型是受限的。 类型在对象创建时使用单个字符的 类型码 来指定。 已定义的类型码如下：\n"
   ]
  },
  {
   "cell_type": "code",
   "execution_count": 1,
   "metadata": {},
   "outputs": [
    {
     "name": "stdout",
     "output_type": "stream",
     "text": [
      "Variable   Type     Data/Info\n",
      "-----------------------------\n",
      "ay         type     <class 'array.array'>\n",
      "y          array    array('i', [12, 34, 56])\n"
     ]
    }
   ],
   "source": [
    "from array import array as ay\n",
    "y=ay('i',[12,34,56])\n",
    "%whos\n",
    "del ay,y"
   ]
  },
  {
   "cell_type": "markdown",
   "metadata": {},
   "source": [
    "## numpy扩展包中的N维数组容器(Ndarray)\n"
   ]
  },
  {
   "cell_type": "markdown",
   "metadata": {},
   "source": [
    "### 导入numpy包\n",
    "将numpy的所有函数、方法导入到名字空间np之下\n",
    "```\n",
    "import numpy as np\n",
    "```\n",
    "### 查询numpy包内函数和方法\n",
    "\n",
    "dir(np) # 列出 numpy函数名目录书第一层函数名和子包名共620个，可用help(np.函数名)查询相应函数的功能及用法：\n",
    "```\n",
    "import numpy as np\n",
    "dir(np)\n",
    "help(np)\n",
    "```"
   ]
  }
 ],
 "metadata": {
  "kernelspec": {
   "display_name": "PythonLearn",
   "language": "python",
   "name": "pythonlearn"
  },
  "language_info": {
   "codemirror_mode": {
    "name": "ipython",
    "version": 3
   },
   "file_extension": ".py",
   "mimetype": "text/x-python",
   "name": "python",
   "nbconvert_exporter": "python",
   "pygments_lexer": "ipython3",
   "version": "3.7.7"
  }
 },
 "nbformat": 4,
 "nbformat_minor": 4
}
