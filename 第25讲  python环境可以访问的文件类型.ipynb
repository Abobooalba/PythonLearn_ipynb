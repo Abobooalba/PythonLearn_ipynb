{
 "cells": [
  {
   "cell_type": "markdown",
   "metadata": {},
   "source": [
    "# 第25讲  python环境可以访问的文件类型\n"
   ]
  },
  {
   "cell_type": "markdown",
   "metadata": {},
   "source": [
    "## 与MATLAB交换数据——matlab数据文件的读写：\n",
    "\n",
    "MATLAB数据文件格式：\n",
    "\n",
    "将数据整理成为至少四个元素的字典，再写入扩展名为mat的磁盘文件中，\n",
    "\n",
    "字典的键名是\n",
    "```\n",
    "['__header__', '__version__', '__globals__', 'x',...],\n",
    "```\n",
    "\n",
    "前三个值分别是：\n",
    "```\n",
    "__header__=b'MATLAB 5.0 MAT-file, Platform: PCWIN64, Created on: Sun May 17 23:57:35 2020'\n",
    "__version__='1.0'\n",
    "__globals__[]\n",
    "```"
   ]
  },
  {
   "cell_type": "markdown",
   "metadata": {},
   "source": [
    "### 读取mat文件"
   ]
  },
  {
   "cell_type": "code",
   "execution_count": 7,
   "metadata": {},
   "outputs": [
    {
     "name": "stdout",
     "output_type": "stream",
     "text": [
      "{'__header__': b'MATLAB 5.0 MAT-file, Platform: PCWIN64, Created on: Fri May 22 16:32:41 2020', '__version__': '1.0', '__globals__': [], 'b': array([[1, 2],\n",
      "       [3, 4]], dtype=uint8), 'x': array([[1, 2, 3, 4, 5, 6]], dtype=uint8)}\n",
      "[[1 2 3 4 5 6]]\n"
     ]
    }
   ],
   "source": [
    "from scipy.io import savemat,loadmat\n",
    "w=loadmat('matdata.mat');\n",
    "print(w)\n",
    "print(w['x'])"
   ]
  },
  {
   "cell_type": "markdown",
   "metadata": {},
   "source": [
    "###  创建mat文件举例"
   ]
  },
  {
   "cell_type": "code",
   "execution_count": 1,
   "metadata": {},
   "outputs": [
    {
     "data": {
      "text/plain": [
       "{'__header__': b'MATLAB 5.0 MAT-file Platform: nt, Created on: Fri May 22 16:24:39 2020',\n",
       " '__version__': '1.0',\n",
       " '__globals__': [],\n",
       " 'a': array([[10, 11, 12, 13, 14, 15, 16, 17, 18, 19]]),\n",
       " 'b': array([[ 0. ,  0.5,  1. ,  1.5,  2. ,  2.5,  3. ,  3.5,  4. ,  4.5,  5. ,\n",
       "          5.5,  6. ,  6.5,  7. ,  7.5,  8. ,  8.5,  9. ,  9.5, 10. , 10.5,\n",
       "         11. , 11.5, 12. , 12.5, 13. , 13.5, 14. , 14.5, 15. , 15.5, 16. ,\n",
       "         16.5, 17. , 17.5, 18. , 18.5, 19. , 19.5, 20. , 20.5, 21. , 21.5,\n",
       "         22. , 22.5, 23. , 23.5, 24. , 24.5, 25. , 25.5, 26. , 26.5, 27. ,\n",
       "         27.5, 28. , 28.5, 29. , 29.5, 30. ]])}"
      ]
     },
     "execution_count": 1,
     "metadata": {},
     "output_type": "execute_result"
    }
   ],
   "source": [
    "from scipy.io import savemat,loadmat\n",
    "import numpy as np\n",
    "\n",
    "x=np.arange(10,20);\n",
    "y=np.linspace(0,30,61);\n",
    "\n",
    "v=dict(__header__=b' ',__version__=1.0,__gloabals__=[],a=x,b=y)\n",
    "\n",
    "savemat('lsm5.mat',v)\n",
    "\n",
    "data=loadmat('lsm5.mat');\n",
    "\n",
    "data"
   ]
  },
  {
   "cell_type": "markdown",
   "metadata": {},
   "source": [
    "## 到目前为止，我们已经学习了在Python环境访问如下文件的的技巧：\n",
    "1. 文本文件(txt)  \n",
    "```\n",
    "f=open('','r'),g=open('','w'),f.read(),g.write()\n",
    "np.savetxt('',x),y=np.loadtxt('')\n",
    "```\n",
    "2. 压缩文件(gz) \n",
    "```\n",
    "np.savetxt('*.gz',x),y=np.loadtxt('*.gz')\n",
    "```\n",
    "3. python 专用数组文件npy,npz\n",
    "```\n",
    "  np.savez('',x);np.load('*.npy'); np.savez('',x);np.load('*.npy')\n",
    "```\n",
    "4. MATLAB 数据文件\n",
    "```\n",
    "from scipy.io import  savemat,loadmat\n",
    "savemat('',__header__=b' ',__version__=1.0,__globals__=[],a=x,b=y,...})\n",
    "d=loadmat('');d['a']...\n",
    "```\n",
    "5. 电子表格文件\n",
    "```\n",
    "import  xlrd,xlwt\n",
    "```\n",
    "读入内存\n",
    "```\n",
    "d=xlrd.open_workbook('*.xls');\n",
    "t1=d.sheet()[0]\n",
    "r=t1.nrows;c=t1.ncols\n",
    "for i in rang(r): print(t1.row_values(i))\n",
    "```\n",
    "写到磁盘\n",
    "```\n",
    "wb=xlwt.Workbook(encoding=utf-8)\n",
    "t1=wb.add_sheet('mysheet')\n",
    "for i in range(n):\n",
    "```\n",
    "       for j in range(m): t1.write(i,j,data[i,j])\n",
    "       \n",
    "6. 各类图像文件\n",
    "\n",
    "```\n",
    "from matplotlib import pyplot as plt\n",
    "\n",
    "plt.imread();\n",
    "plt.imshow();\n",
    "plt.imwrite()\n",
    "\n",
    "from imgeio import  imread,imwrite,imsave\n",
    "\n",
    "```\n",
    "7. python程序文件 *.py\n",
    "\n",
    "在ipython环境，可以用edit *.py打开编辑存盘。\n",
    "在IDLE环境，从文件菜单新建或打开已有的*.py\n"
   ]
  }
 ],
 "metadata": {
  "kernelspec": {
   "display_name": "Python 3",
   "language": "python",
   "name": "python3"
  },
  "language_info": {
   "codemirror_mode": {
    "name": "ipython",
    "version": 3
   },
   "file_extension": ".py",
   "mimetype": "text/x-python",
   "name": "python",
   "nbconvert_exporter": "python",
   "pygments_lexer": "ipython3",
   "version": "3.7.7"
  }
 },
 "nbformat": 4,
 "nbformat_minor": 4
}
