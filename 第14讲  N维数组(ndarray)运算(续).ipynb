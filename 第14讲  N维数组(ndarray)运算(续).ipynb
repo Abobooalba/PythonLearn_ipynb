{
 "cells": [
  {
   "cell_type": "markdown",
   "metadata": {},
   "source": [
    "# 第14讲  数组运算(续)\n",
    "## ——数组的平均值、方差、标准差、绝对值、四舍五入、类型转换、数制转换、转置、共轭、翻转"
   ]
  },
  {
   "cell_type": "markdown",
   "metadata": {},
   "source": [
    "# 数组运算\n",
    "\n",
    "* 平均值mean()\n",
    "* 方差var()\n",
    "* 标准差std()\n",
    "* 绝对值abs()\n",
    "* 四舍五入round()\n",
    "\n",
    "* 类型转换astype\n",
    "* 数制转换\n",
    "* 转置\n",
    "* 共轭\n",
    "* 翻转"
   ]
  },
  {
   "cell_type": "markdown",
   "metadata": {},
   "source": [
    "## 数组的均值mean()\n",
    "均值： 指定数组的全部或部分元数求和后再除以元数个数。例如\n",
    "一维数组的全局均值ar.mean()："
   ]
  },
  {
   "cell_type": "code",
   "execution_count": 9,
   "metadata": {},
   "outputs": [
    {
     "name": "stdout",
     "output_type": "stream",
     "text": [
      "[ 6  5 10  6  9  9 10 10  8  4  8  6] 7.583333333333333\n"
     ]
    }
   ],
   "source": [
    "import numpy as np;\n",
    "ar=np.random.randint(4,11,12);\n",
    "av=ar.mean();print(ar,av)"
   ]
  },
  {
   "cell_type": "markdown",
   "metadata": {},
   "source": [
    "二维数组的列向均值br.mean(axis=0)，行向均值br.mean(axis=1)，全局均值br.mean()"
   ]
  },
  {
   "cell_type": "code",
   "execution_count": 8,
   "metadata": {},
   "outputs": [
    {
     "name": "stdout",
     "output_type": "stream",
     "text": [
      "[[ 8  9  5  4]\n",
      " [ 8 10  9  6]\n",
      " [ 7  4  8 10]]\n",
      "[7.66666667 7.66666667 7.33333333 6.66666667]\n",
      "[6.5  8.25 7.25]\n",
      "7.333333333333333\n"
     ]
    }
   ],
   "source": [
    "br=np.random.randint(4,11,(3,4));\n",
    "print(br);\n",
    "print(br.mean(axis=0));\n",
    "print(br.mean(axis=1));\n",
    "print(br.mean())"
   ]
  },
  {
   "cell_type": "markdown",
   "metadata": {},
   "source": [
    "# 数组的方差var()和标准差std()\n",
    "\n",
    "数组指定范围的元数求方差：每个元素与均值的差值平方求和再出元素个数。\n",
    "\n",
    "例如: 二维数组的全局方差a.var()、列向方差a.var(axis=0)、行向方差a.var(axis=1)：\n"
   ]
  },
  {
   "cell_type": "code",
   "execution_count": 3,
   "metadata": {},
   "outputs": [
    {
     "name": "stdout",
     "output_type": "stream",
     "text": [
      "[[ 2  3  4  5]\n",
      " [ 6  7  8  9]\n",
      " [10 11 12 13]]\n",
      "11.916666666666666\n",
      "[10.66666667 10.66666667 10.66666667 10.66666667]\n",
      "[1.25 1.25 1.25]\n"
     ]
    }
   ],
   "source": [
    "import numpy as np; \n",
    "a=np.arange(2,14).reshape(3,4);\n",
    "print(a);\n",
    "print(a.var());\n",
    "print(a.var(axis=0));\n",
    "print(a.var(axis=1))"
   ]
  },
  {
   "cell_type": "markdown",
   "metadata": {},
   "source": [
    "二维数组的全局标准差a.std()、列向标准差a.std(axis=0)、行向标准差a.std(axis=1)："
   ]
  },
  {
   "cell_type": "code",
   "execution_count": 4,
   "metadata": {},
   "outputs": [
    {
     "name": "stdout",
     "output_type": "stream",
     "text": [
      "3.452052529534663\n",
      "[3.26598632 3.26598632 3.26598632 3.26598632]\n",
      "[1.11803399 1.11803399 1.11803399]\n"
     ]
    }
   ],
   "source": [
    "print(a.std());print(a.std(axis=0));print(a.std(axis=1))"
   ]
  },
  {
   "cell_type": "markdown",
   "metadata": {},
   "source": [
    "数组的绝对值abs、四舍五入round、类型转换 a.astype()\n",
    "\n",
    "np.abs(Q)绝对值，np.round(Q,2)四舍五入保留两位小数，Q.astype(int8)转换为8bit 整数，Q.astype(np.uint8)转换为无符号8bit 整数。\n"
   ]
  },
  {
   "cell_type": "code",
   "execution_count": null,
   "metadata": {},
   "outputs": [],
   "source": [
    "import numpy as np;Q=np.random.uniform(-10,10,10);print(Q)\n",
    "print(np.abs(Q));print(np.round(Q,2));print(Q.astype(int8));print(Q.astype(np.uint8))\n"
   ]
  },
  {
   "cell_type": "markdown",
   "metadata": {},
   "source": [
    "### 复数数组的共轭运算conjugate"
   ]
  },
  {
   "cell_type": "code",
   "execution_count": 1,
   "metadata": {},
   "outputs": [
    {
     "name": "stdout",
     "output_type": "stream",
     "text": [
      "[1.+5.j 2.+4.j 3.+3.j 4.+2.j]\n",
      "d= [[1.+5.j 2.+4.j]\n",
      " [3.+3.j 4.+2.j]]\n",
      "e= [[1.-5.j 2.-4.j]\n",
      " [3.-3.j 4.-2.j]]\n",
      "d+e= [[2. 4.]\n",
      " [6. 8.]]\n"
     ]
    }
   ],
   "source": [
    "import numpy as np;\n",
    "c=np.arange(1,5)+np.arange(5,1,-1)*1j;\n",
    "print(c)\n",
    "d=c.reshape(2,2);\n",
    "e=d.conjugate()\n",
    "print('d=',d);\n",
    "print('e=',e);\n",
    "print('d+e=',(d+e).real)"
   ]
  },
  {
   "cell_type": "markdown",
   "metadata": {},
   "source": [
    "## 二维数组转置(a.T)"
   ]
  },
  {
   "cell_type": "code",
   "execution_count": 6,
   "metadata": {},
   "outputs": [
    {
     "name": "stdout",
     "output_type": "stream",
     "text": [
      "w= [[ 0  1  2  3]\n",
      " [ 4  5  6  7]\n",
      " [ 8  9 10 11]]\n",
      "w.T= [[ 0  4  8]\n",
      " [ 1  5  9]\n",
      " [ 2  6 10]\n",
      " [ 3  7 11]]\n",
      "(1, 2, 2)\n"
     ]
    }
   ],
   "source": [
    "import numpy as np;\n",
    "w=np.arange(12).reshape(3,4);\n",
    "print('w=',w);\n",
    "print('w.T=',w.T)\n",
    "#一维数组需要先扩展为2维数组才能转置。例如\n",
    "m=np.array([10,20,30]);\n",
    "n=np.expand_dims(m,axis=0);\n",
    "print((m.ndim,n.ndim,n.T.ndim)) #运行给出 (1, 2, 2)"
   ]
  },
  {
   "cell_type": "markdown",
   "metadata": {},
   "source": [
    "# 数组的数制转换（hex(),oct(),bin()）"
   ]
  },
  {
   "cell_type": "code",
   "execution_count": 7,
   "metadata": {},
   "outputs": [
    {
     "data": {
      "text/plain": [
       "['0b1',\n",
       " '0b10',\n",
       " '0b1000',\n",
       " '0b10000',\n",
       " '0b100000',\n",
       " '0b1000000',\n",
       " '0b10000000',\n",
       " '0b100000000']"
      ]
     },
     "execution_count": 7,
     "metadata": {},
     "output_type": "execute_result"
    }
   ],
   "source": [
    "#实数的十六进制表示\n",
    "import numpy as np;\n",
    "\n",
    "P=np.array([10,12.5,-45]); \n",
    "list(map(float.hex,P))\n",
    "\n",
    "# 整数的十六进制、八进制、二进制表示\n",
    "\n",
    "w=np.array([7,15,23,171]);\n",
    "np.array(list(map(hex,w)))\n",
    "Q=np.array([10,12,14,16]);list(map(oct,Q))\n",
    "L=np.array([1,2,8,16,32,64,128,256]);list(map(bin,L))\n"
   ]
  }
 ],
 "metadata": {
  "kernelspec": {
   "display_name": "Python 3",
   "language": "python",
   "name": "python3"
  },
  "language_info": {
   "codemirror_mode": {
    "name": "ipython",
    "version": 3
   },
   "file_extension": ".py",
   "mimetype": "text/x-python",
   "name": "python",
   "nbconvert_exporter": "python",
   "pygments_lexer": "ipython3",
   "version": "3.7.7"
  }
 },
 "nbformat": 4,
 "nbformat_minor": 4
}
