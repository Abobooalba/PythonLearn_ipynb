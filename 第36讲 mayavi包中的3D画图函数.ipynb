{
 "cells": [
  {
   "cell_type": "markdown",
   "metadata": {},
   "source": [
    "# 第36讲 mayavi包中的3D画图函数\n",
    "\n",
    "(points3d, plot3d,surf,mesh,quiver3d)"
   ]
  },
  {
   "attachments": {},
   "cell_type": "markdown",
   "metadata": {},
   "source": [
    "## 符号造型布局图points3d\n",
    "\n",
    "在提供的数据位置绘制符号造型。将一群点、箭头、坐标轴线、三角、正方形、菱形、圆圈、空心箭头、空心十字线、圆锥、柱体、立方体、球体等符号造型布局在三维空间的给定位置上。\n",
    "\n",
    "points3d(x, y, z...)    \n",
    "\n",
    "points3d(x, y, z, s, ...)    \n",
    "\n",
    "points3d(x, y, z, f, ...)\n",
    "\n",
    "x, y, z是形状相同的数组或者列表，用来给出点或造型的位置. \n",
    "\n",
    "如果只有3数组x, y, z,画出的造型都是相同的大小和颜色。\n",
    "\n",
    "您可以提交与x, y和z相同形状的第四个数组s，给每个点或造型关联一个标量值, 或关联一个返回标量值的函数f (x, y, z)，这个标量值可以用来调节符号造型的颜色和大小。\n",
    "\n",
    "mode: 象形文字的形式. 必须是 '2darrow' or '2dcircle' or '2dcross' or '2ddash' or '2ddiamond' or '2dhooked_arrow' or '2dsquare' or '2dthick_arrow' or '2dthick_cross' or  '2dtriangle' or '2dvertex' or 'arrow' or 'axes' or 'cone' or 'cube' or 'cylinder' or 'point' or 'sphere'. 默认值 'sphere' "
   ]
  },
  {
   "attachments": {},
   "cell_type": "markdown",
   "metadata": {},
   "source": [
    "## 1D数组的 三维点造型图points3d"
   ]
  },
  {
   "cell_type": "code",
   "execution_count": 3,
   "metadata": {},
   "outputs": [],
   "source": [
    "from mayavi import mlab as mp;\n",
    "import numpy as np\n",
    "\n",
    "x, y, z, v= np.random.random((4, 100))#四个1D数组，x,y,z决定点的位置,value决定点的大小\n",
    "\n",
    "mp.points3d(x, y, z, v,mode='sphere',resolution=80);mp.show()\n",
    "#三维空间中的球体图mp.points3d(x,y,z,v,mode='2darrow');mp.show()#三维空间中的二维箭头\n",
    "mp.points3d(x,y,z,v, mode='cylinder',resolution=80);mp.show()#三维空间中的柱体\n",
    "mp.points3d(x,y,z,v,mode='2dcircle',line_width=20,resolution=60);mp.show()#三维空间中的二维圆圈\n",
    "mp.points3d(x,y,z,v,mode='2dsquare',line_width=20,resolution=20);mp.show()#三维空间中的二维正方形\n",
    "mp.points3d(x,y,z,v,mode='cube',line_width=20,resolution=20);mp.show()#三维空间中的立方体\n",
    "mp.points3d(x,y,z,v,mode='cone',line_width=20,resolution=100);mp.show()#三维空间中的圆锥体\n",
    "mp.points3d(x,y,z,v,mode='arrow',line_width=20,resolution=100);mp.show()#三维空间中的箭头\n",
    "mp.points3d(x,y,z,v,mode='axes',resolution=10,line_width=10);mp.show()#三维空间中的坐标轴"
   ]
  },
  {
   "attachments": {},
   "cell_type": "markdown",
   "metadata": {},
   "source": [
    "## 2D数据直方图barchart"
   ]
  },
  {
   "cell_type": "code",
   "execution_count": 5,
   "metadata": {},
   "outputs": [],
   "source": [
    "from mayavi import mlab as mb\n",
    "import numpy as np\n",
    "\n",
    "x,y=np.mgrid[-16:16:100j,-16:16:100j]\n",
    "\n",
    "r=np.sqrt(x**2+y**2)\n",
    "\n",
    "#复变量z三次方实部台阶曲面\n",
    "z=x*(x**2-3*y**2)*np.exp(-r/2)\n",
    "\n",
    "mb.barchart(x,y,z)\n",
    "\n",
    "mb.show()\n",
    "#x,y,z是2D数组，x,y定位，z是高度"
   ]
  },
  {
   "cell_type": "code",
   "execution_count": 7,
   "metadata": {},
   "outputs": [],
   "source": [
    "from scipy.special import jn\n",
    "z2=jn(1,r)   #1阶贝塞尔函数旋转曲面\n",
    "mb.barchart(x,y,z2)\n",
    "mb.show()"
   ]
  },
  {
   "attachments": {},
   "cell_type": "markdown",
   "metadata": {},
   "source": [
    "## 3D数据直方图barchart"
   ]
  },
  {
   "cell_type": "code",
   "execution_count": 10,
   "metadata": {},
   "outputs": [
    {
     "data": {
      "text/plain": [
       "<function mayavi.tools.show.show.<locals>.wrapper(*args, **kw)>"
      ]
     },
     "execution_count": 10,
     "metadata": {},
     "output_type": "execute_result"
    }
   ],
   "source": [
    "from mayavi import mlab as mp\n",
    "import numpy as np\n",
    "\n",
    "md=np.array([ '2dcircle','2dcross','2ddiamond','2dsquare','2dthick_cross','2dtriangle','2dvertex','cube'])\n",
    "             \n",
    "x,y,z=np.mgrid[-5:5:10j,-5:5:10j,-5:5:10j]\n",
    "r=np.sqrt(x**2+y**2+z**2)\n",
    "v=10*np.cos(3*r)*np.exp(-r/4)\n",
    "for i in range(8):\n",
    "    mp.figure(i)\n",
    "    mp.barchart(x,y,z,v,mode=md[i],resolution=50)\n",
    "mp.show(i)\n"
   ]
  },
  {
   "attachments": {},
   "cell_type": "markdown",
   "metadata": {},
   "source": [
    "## 1D数组的线管网状曲面图plot3d"
   ]
  },
  {
   "cell_type": "code",
   "execution_count": 24,
   "metadata": {},
   "outputs": [],
   "source": [
    "import numpy as np\n",
    "from mayavi import mlab as mb\n",
    "n=500;s=np.linspace(0,6*np.pi,n)\n",
    "x,y=(5-s**(0.25))*(np.cos(s),np.sin(s))\n",
    "z=2*s**0.5\n",
    "v=np.random.random(n)*255;\n",
    "kw=dict(tube_radius=0.6,tube_sides=24,representation=\"wireframe\",line_width=3,opacity=0.8)\n",
    "mb.figure(bgcolor=(0,0,0))\n",
    "mb.plot3d(x,y,z,v,**kw)\n",
    "mb.show()"
   ]
  },
  {
   "cell_type": "markdown",
   "metadata": {},
   "source": [
    "## 1D数组的线管曲面图plot3d"
   ]
  },
  {
   "cell_type": "code",
   "execution_count": 5,
   "metadata": {},
   "outputs": [],
   "source": [
    "from mayavi import mlab as mb\n",
    "import numpy as np\n",
    "t=np.linspace(0,2*np.pi,501)\n",
    "x,y=5*np.cos(7*t)*(np.cos(t),np.sin(t))\n",
    "z=1+0.2*np.cos(4*t)\n",
    "v=np.random.random(len(t))*200\n",
    "mb.figure(bgcolor=(0,0,0))\n",
    "kw=dict(tube_radius=0.2,tube_sides=15,colormap='autumn')\n",
    "mb.plot3d(x,y,z,v,**kw)\n",
    "mb.show()"
   ]
  },
  {
   "cell_type": "code",
   "execution_count": 6,
   "metadata": {},
   "outputs": [],
   "source": [
    "import numpy as np\n",
    "from mayavi import mlab as mb\n",
    "nm=np.mgrid\n",
    "x,y=nm[-16:16:20j,-12:12:16j]\n",
    "x=x.T;\n",
    "y=y.T\n",
    "r=np.sqrt(x**2+y**2)\n",
    "\n",
    "z=(x**3-3*x*y**2)*np.exp(-r/2)\n",
    "\n",
    "kw=dict(representation='mesh',colormap='autumn',tube_radius=0.3,tube_sides=12)\n",
    "\n",
    "mb.figure(bgcolor=(0,0,0))\n",
    "\n",
    "mb.mesh(x,y,z,**kw)\n",
    "\n",
    "mb.show()"
   ]
  },
  {
   "cell_type": "code",
   "execution_count": 11,
   "metadata": {},
   "outputs": [],
   "source": [
    "import numpy as np\n",
    "from mayavi import mlab as mb\n",
    "nm=np.mgrid\n",
    "x,y=nm[-16:16:30j,-16:16:30j]\n",
    "x=x.T;y=y.T\n",
    "r=np.sqrt(x**2+y**2);\n",
    "z=10*np.cos(r)*np.exp(-r/5)\n",
    "kw=dict(colormap='summer', tube_radius=0.3,tube_sides=12, representation='fancymesh')\n",
    "mb.figure(bgcolor=(0,0,0))\n",
    "mb.mesh(x,y,z,**kw)\n",
    "mb.show()\n"
   ]
  },
  {
   "cell_type": "code",
   "execution_count": 12,
   "metadata": {},
   "outputs": [],
   "source": [
    "import numpy as np\n",
    "from mayavi import mlab as mb\n",
    "nm=np.mgrid\n",
    "ne=np.exp\n",
    "x,y=nm[-16:16:100j,-16:16:100j]\n",
    "x=x.T;y=y.T\n",
    "r=np.sqrt(x**2+y**2);\n",
    "z1=(x**4-6*(x*y)**2+y**4)\n",
    "z=0.1*z1*ne(-r/2)\n",
    "kw=dict(colormap='summer')\n",
    "mb.figure(bgcolor=(0,0,0))\n",
    "mb.mesh(x,y,z,**kw)\n",
    "mb.show()\n"
   ]
  },
  {
   "cell_type": "markdown",
   "metadata": {},
   "source": [
    "## 用函数surf(x,y,f,…)画曲面图"
   ]
  },
  {
   "cell_type": "code",
   "execution_count": 13,
   "metadata": {},
   "outputs": [],
   "source": [
    "#导入扩展包\n",
    "from mayavi import mlab as mb\n",
    "import numpy as np\n",
    "nm=np.mgrid\n",
    "#准备画图2D数组\n",
    "x,y=nm[-16:16:100j,-16:16:100j]\n",
    "r=np.sqrt(x**2+y**2)\n",
    "z1=x**4-6*(x*y)**2+y**4\n",
    "z=0.1*z1*np.exp(-r/2)\n",
    "#设置图像窗口背景\n",
    "mb.figure(bgcolor=(0,0,0))\n",
    "#画曲面图\n",
    "mb.surf(x,y,z);mb.show()"
   ]
  },
  {
   "cell_type": "markdown",
   "metadata": {},
   "source": [
    "## 用函数surf(x,y,f,…)画带网格线的曲面图"
   ]
  },
  {
   "cell_type": "code",
   "execution_count": 14,
   "metadata": {},
   "outputs": [],
   "source": [
    "#导入扩展包\n",
    "from mayavi import mlab as mb\n",
    "import numpy as np\n",
    "nm=np.mgrid\n",
    "#准备画图2D数组\n",
    "x,y=nm[-16:16:100j,-16:16:100j]\n",
    "r=np.sqrt(x**2+y**2)\n",
    "z1=x**4-6*(x*y)**2+y**4\n",
    "z=0.1*z1*np.exp(-r/2)\n",
    "mb.figure(bgcolor=(0,0,0))\n",
    "mb.surf(x,y,z,opacity=0.5)\n",
    "mb.surf(x,y,z,representation='wireframe',line_width=5,opacity=0.5);mb.show()\n"
   ]
  },
  {
   "cell_type": "code",
   "execution_count": 26,
   "metadata": {},
   "outputs": [
    {
     "name": "stderr",
     "output_type": "stream",
     "text": [
      "C:\\Anaconda3\\envs\\PythonLearn\\lib\\site-packages\\ipykernel_launcher.py:9: RuntimeWarning: invalid value encountered in power\n",
      "  if __name__ == '__main__':\n",
      "C:\\Anaconda3\\envs\\PythonLearn\\lib\\site-packages\\ipykernel_launcher.py:9: RuntimeWarning: overflow encountered in power\n",
      "  if __name__ == '__main__':\n"
     ]
    },
    {
     "ename": "ValueError",
     "evalue": "Input array contains infinite values\n                You can remove them using: a[np.isinf(a)] = np.nan\n                ",
     "output_type": "error",
     "traceback": [
      "\u001b[1;31m---------------------------------------------------------------------------\u001b[0m",
      "\u001b[1;31mValueError\u001b[0m                                Traceback (most recent call last)",
      "\u001b[1;32m<ipython-input-26-1ff555a47ce5>\u001b[0m in \u001b[0;36m<module>\u001b[1;34m\u001b[0m\n\u001b[0;32m      9\u001b[0m \u001b[0mv\u001b[0m\u001b[1;33m=\u001b[0m\u001b[0mx\u001b[0m\u001b[1;33m**\u001b[0m\u001b[1;33m+\u001b[0m\u001b[0my\u001b[0m\u001b[1;33m**\u001b[0m\u001b[1;33m-\u001b[0m\u001b[0mz\u001b[0m\u001b[1;33m**\u001b[0m\u001b[1;36m2\u001b[0m\u001b[1;31m#三自变量旋转双曲面函数\u001b[0m\u001b[1;33m\u001b[0m\u001b[1;33m\u001b[0m\u001b[0m\n\u001b[0;32m     10\u001b[0m \u001b[1;33m\u001b[0m\u001b[0m\n\u001b[1;32m---> 11\u001b[1;33m \u001b[0mmb\u001b[0m\u001b[1;33m.\u001b[0m\u001b[0mcontour3d\u001b[0m\u001b[1;33m(\u001b[0m\u001b[0mx\u001b[0m\u001b[1;33m,\u001b[0m\u001b[0my\u001b[0m\u001b[1;33m,\u001b[0m\u001b[0mz\u001b[0m\u001b[1;33m,\u001b[0m\u001b[0mv\u001b[0m\u001b[1;33m,\u001b[0m\u001b[0mcontours\u001b[0m\u001b[1;33m=\u001b[0m\u001b[1;36m20\u001b[0m\u001b[1;33m)\u001b[0m\u001b[1;33m;\u001b[0m\u001b[1;33m\u001b[0m\u001b[1;33m\u001b[0m\u001b[0m\n\u001b[0m\u001b[0;32m     12\u001b[0m \u001b[1;33m\u001b[0m\u001b[0m\n\u001b[0;32m     13\u001b[0m \u001b[0mmb\u001b[0m\u001b[1;33m.\u001b[0m\u001b[0mshow\u001b[0m\u001b[1;33m(\u001b[0m\u001b[1;33m)\u001b[0m\u001b[1;31m#三维等值面图\u001b[0m\u001b[1;33m\u001b[0m\u001b[1;33m\u001b[0m\u001b[0m\n",
      "\u001b[1;32mC:\\Anaconda3\\envs\\PythonLearn\\lib\\site-packages\\mayavi\\tools\\helper_functions.py\u001b[0m in \u001b[0;36mthe_function\u001b[1;34m(*args, **kwargs)\u001b[0m\n\u001b[0;32m     35\u001b[0m \u001b[1;33m\u001b[0m\u001b[0m\n\u001b[0;32m     36\u001b[0m     \u001b[1;32mdef\u001b[0m \u001b[0mthe_function\u001b[0m\u001b[1;33m(\u001b[0m\u001b[1;33m*\u001b[0m\u001b[0margs\u001b[0m\u001b[1;33m,\u001b[0m \u001b[1;33m**\u001b[0m\u001b[0mkwargs\u001b[0m\u001b[1;33m)\u001b[0m\u001b[1;33m:\u001b[0m\u001b[1;33m\u001b[0m\u001b[1;33m\u001b[0m\u001b[0m\n\u001b[1;32m---> 37\u001b[1;33m         \u001b[1;32mreturn\u001b[0m \u001b[0mpipeline\u001b[0m\u001b[1;33m(\u001b[0m\u001b[1;33m*\u001b[0m\u001b[0margs\u001b[0m\u001b[1;33m,\u001b[0m \u001b[1;33m**\u001b[0m\u001b[0mkwargs\u001b[0m\u001b[1;33m)\u001b[0m\u001b[1;33m\u001b[0m\u001b[1;33m\u001b[0m\u001b[0m\n\u001b[0m\u001b[0;32m     38\u001b[0m \u001b[1;33m\u001b[0m\u001b[0m\n\u001b[0;32m     39\u001b[0m     \u001b[1;32mif\u001b[0m \u001b[0mhasattr\u001b[0m\u001b[1;33m(\u001b[0m\u001b[0mpipeline\u001b[0m\u001b[1;33m,\u001b[0m \u001b[1;34m'doc'\u001b[0m\u001b[1;33m)\u001b[0m\u001b[1;33m:\u001b[0m\u001b[1;33m\u001b[0m\u001b[1;33m\u001b[0m\u001b[0m\n",
      "\u001b[1;32mC:\\Anaconda3\\envs\\PythonLearn\\lib\\site-packages\\mayavi\\tools\\helper_functions.py\u001b[0m in \u001b[0;36m__call__\u001b[1;34m(self, *args, **kwargs)\u001b[0m\n\u001b[0;32m     80\u001b[0m             \u001b[0mscene\u001b[0m\u001b[1;33m.\u001b[0m\u001b[0mdisable_render\u001b[0m \u001b[1;33m=\u001b[0m \u001b[1;32mTrue\u001b[0m\u001b[1;33m\u001b[0m\u001b[1;33m\u001b[0m\u001b[0m\n\u001b[0;32m     81\u001b[0m         \u001b[1;31m# Then call the real logic\u001b[0m\u001b[1;33m\u001b[0m\u001b[1;33m\u001b[0m\u001b[1;33m\u001b[0m\u001b[0m\n\u001b[1;32m---> 82\u001b[1;33m         \u001b[0moutput\u001b[0m \u001b[1;33m=\u001b[0m \u001b[0mself\u001b[0m\u001b[1;33m.\u001b[0m\u001b[0m__call_internal__\u001b[0m\u001b[1;33m(\u001b[0m\u001b[1;33m*\u001b[0m\u001b[0margs\u001b[0m\u001b[1;33m,\u001b[0m \u001b[1;33m**\u001b[0m\u001b[0mkwargs\u001b[0m\u001b[1;33m)\u001b[0m\u001b[1;33m\u001b[0m\u001b[1;33m\u001b[0m\u001b[0m\n\u001b[0m\u001b[0;32m     83\u001b[0m         \u001b[1;31m# And re-enable the rendering, if needed.\u001b[0m\u001b[1;33m\u001b[0m\u001b[1;33m\u001b[0m\u001b[1;33m\u001b[0m\u001b[0m\n\u001b[0;32m     84\u001b[0m         \u001b[1;32mif\u001b[0m \u001b[0mscene\u001b[0m \u001b[1;32mis\u001b[0m \u001b[1;32mnot\u001b[0m \u001b[1;32mNone\u001b[0m\u001b[1;33m:\u001b[0m\u001b[1;33m\u001b[0m\u001b[1;33m\u001b[0m\u001b[0m\n",
      "\u001b[1;32mC:\\Anaconda3\\envs\\PythonLearn\\lib\\site-packages\\mayavi\\tools\\helper_functions.py\u001b[0m in \u001b[0;36m__call_internal__\u001b[1;34m(self, *args, **kwargs)\u001b[0m\n\u001b[0;32m     90\u001b[0m         the last object created by the pipeline.\"\"\"\n\u001b[0;32m     91\u001b[0m         \u001b[0mself\u001b[0m\u001b[1;33m.\u001b[0m\u001b[0mstore_kwargs\u001b[0m\u001b[1;33m(\u001b[0m\u001b[0mkwargs\u001b[0m\u001b[1;33m)\u001b[0m\u001b[1;33m\u001b[0m\u001b[1;33m\u001b[0m\u001b[0m\n\u001b[1;32m---> 92\u001b[1;33m         \u001b[0mself\u001b[0m\u001b[1;33m.\u001b[0m\u001b[0msource\u001b[0m \u001b[1;33m=\u001b[0m \u001b[0mself\u001b[0m\u001b[1;33m.\u001b[0m\u001b[0m_source_function\u001b[0m\u001b[1;33m(\u001b[0m\u001b[1;33m*\u001b[0m\u001b[0margs\u001b[0m\u001b[1;33m,\u001b[0m \u001b[1;33m**\u001b[0m\u001b[0mkwargs\u001b[0m\u001b[1;33m)\u001b[0m\u001b[1;33m\u001b[0m\u001b[1;33m\u001b[0m\u001b[0m\n\u001b[0m\u001b[0;32m     93\u001b[0m         \u001b[1;31m# Copy the pipeline so as not to modify it for the next call\u001b[0m\u001b[1;33m\u001b[0m\u001b[1;33m\u001b[0m\u001b[1;33m\u001b[0m\u001b[0m\n\u001b[0;32m     94\u001b[0m         \u001b[0mself\u001b[0m\u001b[1;33m.\u001b[0m\u001b[0mpipeline\u001b[0m \u001b[1;33m=\u001b[0m \u001b[0mself\u001b[0m\u001b[1;33m.\u001b[0m\u001b[0m_pipeline\u001b[0m\u001b[1;33m[\u001b[0m\u001b[1;33m:\u001b[0m\u001b[1;33m]\u001b[0m\u001b[1;33m\u001b[0m\u001b[1;33m\u001b[0m\u001b[0m\n",
      "\u001b[1;32mC:\\Anaconda3\\envs\\PythonLearn\\lib\\site-packages\\mayavi\\tools\\sources.py\u001b[0m in \u001b[0;36mscalar_field\u001b[1;34m(*args, **kwargs)\u001b[0m\n\u001b[0;32m   1163\u001b[0m         \u001b[0ms\u001b[0m \u001b[1;33m=\u001b[0m \u001b[0margs\u001b[0m\u001b[1;33m[\u001b[0m\u001b[1;36m0\u001b[0m\u001b[1;33m]\u001b[0m\u001b[1;33m\u001b[0m\u001b[1;33m\u001b[0m\u001b[0m\n\u001b[0;32m   1164\u001b[0m     \u001b[1;32melse\u001b[0m\u001b[1;33m:\u001b[0m\u001b[1;33m\u001b[0m\u001b[1;33m\u001b[0m\u001b[0m\n\u001b[1;32m-> 1165\u001b[1;33m         \u001b[0mx\u001b[0m\u001b[1;33m,\u001b[0m \u001b[0my\u001b[0m\u001b[1;33m,\u001b[0m \u001b[0mz\u001b[0m\u001b[1;33m,\u001b[0m \u001b[0ms\u001b[0m \u001b[1;33m=\u001b[0m \u001b[0mprocess_regular_scalars\u001b[0m\u001b[1;33m(\u001b[0m\u001b[1;33m*\u001b[0m\u001b[0margs\u001b[0m\u001b[1;33m)\u001b[0m\u001b[1;33m\u001b[0m\u001b[1;33m\u001b[0m\u001b[0m\n\u001b[0m\u001b[0;32m   1166\u001b[0m \u001b[1;33m\u001b[0m\u001b[0m\n\u001b[0;32m   1167\u001b[0m     \u001b[0mdata_source\u001b[0m \u001b[1;33m=\u001b[0m \u001b[0mMArraySource\u001b[0m\u001b[1;33m(\u001b[0m\u001b[1;33m)\u001b[0m\u001b[1;33m\u001b[0m\u001b[1;33m\u001b[0m\u001b[0m\n",
      "\u001b[1;32mC:\\Anaconda3\\envs\\PythonLearn\\lib\\site-packages\\mayavi\\tools\\sources.py\u001b[0m in \u001b[0;36mprocess_regular_scalars\u001b[1;34m(*args)\u001b[0m\n\u001b[0;32m    939\u001b[0m \u001b[1;32mdef\u001b[0m \u001b[0mprocess_regular_scalars\u001b[0m\u001b[1;33m(\u001b[0m\u001b[1;33m*\u001b[0m\u001b[0margs\u001b[0m\u001b[1;33m)\u001b[0m\u001b[1;33m:\u001b[0m\u001b[1;33m\u001b[0m\u001b[1;33m\u001b[0m\u001b[0m\n\u001b[0;32m    940\u001b[0m     \u001b[1;34m\"\"\" Converts different signatures to (x, y, z, s). \"\"\"\u001b[0m\u001b[1;33m\u001b[0m\u001b[1;33m\u001b[0m\u001b[0m\n\u001b[1;32m--> 941\u001b[1;33m     \u001b[0margs\u001b[0m \u001b[1;33m=\u001b[0m \u001b[0mconvert_to_arrays\u001b[0m\u001b[1;33m(\u001b[0m\u001b[0margs\u001b[0m\u001b[1;33m)\u001b[0m\u001b[1;33m\u001b[0m\u001b[1;33m\u001b[0m\u001b[0m\n\u001b[0m\u001b[0;32m    942\u001b[0m     \u001b[1;32mif\u001b[0m \u001b[0mlen\u001b[0m\u001b[1;33m(\u001b[0m\u001b[0margs\u001b[0m\u001b[1;33m)\u001b[0m \u001b[1;33m==\u001b[0m \u001b[1;36m1\u001b[0m\u001b[1;33m:\u001b[0m\u001b[1;33m\u001b[0m\u001b[1;33m\u001b[0m\u001b[0m\n\u001b[0;32m    943\u001b[0m         \u001b[0ms\u001b[0m \u001b[1;33m=\u001b[0m \u001b[0mnp\u001b[0m\u001b[1;33m.\u001b[0m\u001b[0matleast_3d\u001b[0m\u001b[1;33m(\u001b[0m\u001b[0margs\u001b[0m\u001b[1;33m[\u001b[0m\u001b[1;36m0\u001b[0m\u001b[1;33m]\u001b[0m\u001b[1;33m)\u001b[0m\u001b[1;33m\u001b[0m\u001b[1;33m\u001b[0m\u001b[0m\n",
      "\u001b[1;32mC:\\Anaconda3\\envs\\PythonLearn\\lib\\site-packages\\mayavi\\tools\\sources.py\u001b[0m in \u001b[0;36mconvert_to_arrays\u001b[1;34m(args)\u001b[0m\n\u001b[0;32m    905\u001b[0m                 raise ValueError(\"\"\"Input array contains infinite values\n\u001b[0;32m    906\u001b[0m                 \u001b[0mYou\u001b[0m \u001b[0mcan\u001b[0m \u001b[0mremove\u001b[0m \u001b[0mthem\u001b[0m \u001b[0musing\u001b[0m\u001b[1;33m:\u001b[0m \u001b[0ma\u001b[0m\u001b[1;33m[\u001b[0m\u001b[0mnp\u001b[0m\u001b[1;33m.\u001b[0m\u001b[0misinf\u001b[0m\u001b[1;33m(\u001b[0m\u001b[0ma\u001b[0m\u001b[1;33m)\u001b[0m\u001b[1;33m]\u001b[0m \u001b[1;33m=\u001b[0m \u001b[0mnp\u001b[0m\u001b[1;33m.\u001b[0m\u001b[0mnan\u001b[0m\u001b[1;33m\u001b[0m\u001b[1;33m\u001b[0m\u001b[0m\n\u001b[1;32m--> 907\u001b[1;33m                 \"\"\")\n\u001b[0m\u001b[0;32m    908\u001b[0m             \u001b[0margs\u001b[0m\u001b[1;33m[\u001b[0m\u001b[0mindex\u001b[0m\u001b[1;33m]\u001b[0m \u001b[1;33m=\u001b[0m \u001b[0marg\u001b[0m\u001b[1;33m\u001b[0m\u001b[1;33m\u001b[0m\u001b[0m\n\u001b[0;32m    909\u001b[0m     \u001b[1;32mreturn\u001b[0m \u001b[0margs\u001b[0m\u001b[1;33m\u001b[0m\u001b[1;33m\u001b[0m\u001b[0m\n",
      "\u001b[1;31mValueError\u001b[0m: Input array contains infinite values\n                You can remove them using: a[np.isinf(a)] = np.nan\n                "
     ]
    }
   ],
   "source": [
    "# 1. 四维旋转双曲面三维空间等值面图\n",
    "import mayavi.mlab as mb\n",
    "import numpy as np;\n",
    "\n",
    "mb.figure(bgcolor=(0,0,0))\n",
    "\n",
    "x,y,z = np.mgrid[-10:10:100j, -10:10:100j,-10:10:100j]#三维立体坐标网格\n",
    "\n",
    "v=x**+y**-z**2#三自变量旋转双曲面函数\n",
    "\n",
    "mb.contour3d(x,y,z,v,contours=20);\n",
    "\n",
    "mb.show()#三维等值面图"
   ]
  },
  {
   "cell_type": "code",
   "execution_count": 19,
   "metadata": {},
   "outputs": [],
   "source": [
    "#2.  四维贝塞尔曲面的等值函数面\n",
    "from mayavi import mlab as mb;\n",
    "import numpy as np\n",
    "\n",
    "from scipy import special as sp\n",
    "x,y,z=np.mgrid[-10:10:50j, -10:10:50j, -10:10:50j]\n",
    "v=sp.jn(0,x)*sp.jn(2,y)*sp.jn(4,z)*50\n",
    "mb.contour3d(x,y,z,v,contours=10);mb.show()"
   ]
  },
  {
   "cell_type": "code",
   "execution_count": 20,
   "metadata": {},
   "outputs": [],
   "source": [
    "# 旋转正弦指数曲面的等高线图\n",
    "from mayavi import mlab as mb\n",
    "x,y=np.ogrid[-10:10:0.2,-8:8:0.2]#一维坐标网格\n",
    "r=np.sqrt(x**2+y**2);\n",
    "z=2*np.sin(2*r)*np.exp(-r/4)\n",
    "mb.contour_surf(x,y,z,contours=20);mb.show()\n",
    " \n",
    "#贝塞尔曲面等高线\n",
    "from mayavi import mlab as mb; from scipy import special as sp\n",
    "x,y=np.mgrid[-10:10:20j,-10:10:20j];   \n",
    "z=10*sp.jn(1,x)*sp.jn(2,y);#二维坐标网格\n",
    "mb.contour_surf(x,y,z,colormap=\"spring\",line_width=3,contours=40);mb.show()\n",
    "\n",
    "#带翘曲参数的等高线图\n",
    "x,y=np.mgrid[-10:10:20j,-8:8:16j]\n",
    "r=np.sqrt(x**2+y**2);v=np.sinc(2*r)*x\n",
    "mb.contour_surf(x,y,v,contours=60,colormap=\"autumn\",warp_scale=8);mb.show()"
   ]
  },
  {
   "cell_type": "code",
   "execution_count": 2,
   "metadata": {},
   "outputs": [],
   "source": [
    "# 1. 一对正负点电荷周围的电场强度\n",
    "import numpy as np\n",
    "from mayavi import mlab as mb\n",
    "x,y,z=np.mgrid[-10:10:50j,-10:10:50j, -10:10:50j];x1=x-3;x2=x+3\n",
    "r1=np.sqrt(x1**2+y**2+z**2);r2=np.sqrt(x2**2+y**2+z**2);\n",
    "u=10*(x2/r2**3-x1/r1**3);v=10*(y/r2**3-y/r1**3);w=10*(z/r2**3-z/r1**3)\n",
    "kw=dict(mode=\"2dthick_arrow\",line_width=3,opacity=0.75,color=(1,1,1))\n",
    "mb.figure(bgcolor=(0,0,0));mb.quiver3d(x,y,z,u,v,w,**kw);mb.show()\n",
    "\n",
    "#2. 电势函数phi(x,y,z)=x*y+y*z+z*x对应的电场分布示意图\n",
    "\n",
    "x,y,z=np.mgrid[-10:10:20j,-10:10:20j, -10:10:20j];\n",
    "u=y+z;v=x+z;w=y+x;kw=dict(mode='2dthick_arrow',line_width=2,opacity=0.75)\n",
    "mb.figure(bgcolor=(0,0,0));mb.quiver3d(x,y,z,u,v,w,**kw);mb.show()"
   ]
  }
 ],
 "metadata": {
  "kernelspec": {
   "display_name": "Python 3",
   "language": "python",
   "name": "python3"
  },
  "language_info": {
   "codemirror_mode": {
    "name": "ipython",
    "version": 3
   },
   "file_extension": ".py",
   "mimetype": "text/x-python",
   "name": "python",
   "nbconvert_exporter": "python",
   "pygments_lexer": "ipython3",
   "version": "3.7.7"
  }
 },
 "nbformat": 4,
 "nbformat_minor": 4
}
