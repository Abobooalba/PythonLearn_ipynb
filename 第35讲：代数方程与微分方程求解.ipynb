{
 "cells": [
  {
   "cell_type": "markdown",
   "metadata": {},
   "source": [
    "# 第35讲：代数方程与微分方程求解"
   ]
  },
  {
   "attachments": {},
   "cell_type": "markdown",
   "metadata": {},
   "source": [
    "## 线性代数方程组、高次代数方程求解\n",
    "\n",
    "将方程整理成为$f(x,y,z，...)=0$形式，调用**sy.solve(f(x,y,z,...))**求解\n",
    "\n",
    "线性代数方程组\n",
    "$$\n",
    "\\begin{cases} \n",
    "x+2y+3z=9     \\\\\n",
    "4x+5y+6z=-15   \\\\\n",
    "7x+8y+10z=39\n",
    "\\end{cases}\n",
    "$$"
   ]
  },
  {
   "cell_type": "code",
   "execution_count": 4,
   "metadata": {},
   "outputs": [
    {
     "name": "stdout",
     "output_type": "stream",
     "text": [
      "{x: 53, y: -139, z: 78}\n"
     ]
    },
    {
     "data": {
      "text/plain": [
       "[53, -139, 78]"
      ]
     },
     "execution_count": 4,
     "metadata": {},
     "output_type": "execute_result"
    }
   ],
   "source": [
    "import sympy as sy\n",
    "sy.var('x y z')\n",
    "#线性代数方程组求解\n",
    "sol=sy.solve([x+2*y+3*z-9,4*x+5*y+6*z+15,7*x+8*y+10*z-39]);\n",
    "print(sol)\n",
    "list(sol.values())"
   ]
  },
  {
   "cell_type": "markdown",
   "metadata": {},
   "source": [
    "## 一元3次代数方程求解\n",
    "$x^3-2*x^2+4*x=16$"
   ]
  },
  {
   "cell_type": "code",
   "execution_count": 20,
   "metadata": {},
   "outputs": [
    {
     "data": {
      "text/latex": [
       "$\\displaystyle \\left[\\begin{matrix}-0.353209964199324 - 2.40564163857096 i\\\\-0.353209964199324 + 2.40564163857096 i\\\\2.70641992839865\\end{matrix}\\right]$"
      ],
      "text/plain": [
       "Matrix([\n",
       "[-0.353209964199324 - 2.40564163857096*I],\n",
       "[-0.353209964199324 + 2.40564163857096*I],\n",
       "[                       2.70641992839865]])"
      ]
     },
     "execution_count": 20,
     "metadata": {},
     "output_type": "execute_result"
    }
   ],
   "source": [
    "sol= sy.solve(x**3-2*x**2+4*x-16)\n",
    "q=sy.Matrix(sol).evalf();\n",
    "q"
   ]
  },
  {
   "attachments": {},
   "cell_type": "markdown",
   "metadata": {},
   "source": [
    "## 线性代数方程组矩阵法求解\n",
    "\n",
    "以线性代数方程组\n",
    "$$\n",
    "\\begin{cases} \n",
    "x+2y+3z=9     \\\\\n",
    "4x+5y+6z=-15   \\\\\n",
    "7x+8y+10z=39\n",
    "\\end{cases}\n",
    "$$\n",
    "为例展示解法过程。"
   ]
  },
  {
   "cell_type": "code",
   "execution_count": 19,
   "metadata": {},
   "outputs": [
    {
     "name": "stdout",
     "output_type": "stream",
     "text": [
      "(53, -139, 78)\n",
      "error= 0\n"
     ]
    }
   ],
   "source": [
    "import sympy as sy\n",
    "import numpy as np\n",
    "A=sy.Matrix([[1,2,3],[4,5,6],[7,8,10]])\n",
    "B=sy.Matrix([[9],[-15],[39]])\n",
    "p=sy.linsolve((A,B))   #解方程组\n",
    "sol=list(p)[0];       #提取解数据\n",
    "print(sol)\n",
    "X=sy.Matrix(sol);#计算误差\n",
    "er=np.array(A*X-B).max()\n",
    "print('error=',er)"
   ]
  },
  {
   "attachments": {},
   "cell_type": "markdown",
   "metadata": {},
   "source": [
    "## sympy的线性代数——矩阵运算函数"
   ]
  },
  {
   "cell_type": "code",
   "execution_count": 21,
   "metadata": {},
   "outputs": [
    {
     "name": "stdout",
     "output_type": "stream",
     "text": [
      "Matrix([[-2.00000000000000, 1.00000000000000], [1.50000000000000, -0.500000000000000]])\n",
      "-2.00000000000000\n",
      "5.00000000000000\n",
      "2\n"
     ]
    }
   ],
   "source": [
    "import sympy as sy\n",
    "A=sy.Matrix([[1.0,2],[3,4]])\n",
    "#A.<TAB>可以查到sympy的几乎所有矩阵函数，例如\n",
    "print(A.inv())\n",
    "print(A.det())\n",
    "print(A.trace())\n",
    "print(A.rank())"
   ]
  },
  {
   "cell_type": "code",
   "execution_count": 23,
   "metadata": {},
   "outputs": [
    {
     "name": "stdout",
     "output_type": "stream",
     "text": [
      "[-0.372281323269014, 5.37228132326901]\n",
      "Matrix([[0.824564840132394], [-0.565767464968992]])\n",
      "Matrix([[0.422229150415260], [0.923052314250193]])\n"
     ]
    }
   ],
   "source": [
    "#矩阵特征值\n",
    "val=A.eigenvals(multiple=True);\n",
    "print(val)\n",
    "#矩阵特征向量\n",
    "v=A.eigenvects()\n",
    "v1=v[0][2][0];v2=v[1][2][0]\n",
    "print(v1)\n",
    "print(v2)"
   ]
  },
  {
   "cell_type": "markdown",
   "metadata": {},
   "source": [
    "## 微分方程函数解\n",
    "\n",
    "在信号处理部分，我们已经学习了线性时不变系统的微分方程数值解法。现在我们来学习微分方程函数解的解法。\n",
    "\n",
    "可以使用SymPy的dsolve解有解析解的常微分方程。需要用Function创建未知的符号函数:"
   ]
  },
  {
   "cell_type": "code",
   "execution_count": 30,
   "metadata": {},
   "outputs": [
    {
     "name": "stdout",
     "output_type": "stream",
     "text": [
      "f(x) + Derivative(f(x), (x, 2))\n"
     ]
    },
    {
     "data": {
      "text/latex": [
       "$\\displaystyle f{\\left(x \\right)} = C_{1} \\sin{\\left(x \\right)} + C_{2} \\cos{\\left(x \\right)}$"
      ],
      "text/plain": [
       "Eq(f(x), C1*sin(x) + C2*cos(x))"
      ]
     },
     "execution_count": 30,
     "metadata": {},
     "output_type": "execute_result"
    }
   ],
   "source": [
    "x = sy.Symbol(\"x\"); \n",
    "f = sy.Function(\"f\"); \n",
    "g = sy.Function(\"g\")(x)\n",
    "#f 和 g是没有具体定义的未知函数。可以对f(x),g求符号导数。\n",
    "print(f(x).diff(x, x) + f(x))\n",
    "sy.dsolve(f(x).diff(x, x) + f(x), f(x))"
   ]
  },
  {
   "cell_type": "markdown",
   "metadata": {},
   "source": [
    "可以向dsolve传递键值参数，确认是否找到最适合的解。\n",
    "\n",
    "例如，使用关键词hint=’separable’强制dsolve视方程为独立方程。"
   ]
  },
  {
   "cell_type": "code",
   "execution_count": 25,
   "metadata": {},
   "outputs": [
    {
     "data": {
      "text/plain": [
       "[Eq(f(x), -acos(C1/cos(x)) + 2*pi), Eq(f(x), acos(C1/cos(x)))]"
      ]
     },
     "execution_count": 25,
     "metadata": {},
     "output_type": "execute_result"
    }
   ],
   "source": [
    "sy.dsolve(sy.sin(x)*sy.cos(f(x)) + sy.cos(x)*sy.sin(f(x))*f(x).diff(x), f(x), hint='separable')"
   ]
  },
  {
   "cell_type": "markdown",
   "metadata": {},
   "source": [
    "## 微分方程函数解求解举例\n",
    "\n",
    "1.使用键值参数 hint='Bernoulli'求解求解一阶变系数Bernoulli方程x*f'(x)+f(x)(1-f(x))=0。"
   ]
  },
  {
   "cell_type": "code",
   "execution_count": 26,
   "metadata": {},
   "outputs": [
    {
     "data": {
      "text/latex": [
       "$\\displaystyle f{\\left(x \\right)} = \\frac{1}{C_{1} x + 1}$"
      ],
      "text/plain": [
       "Eq(f(x), 1/(C1*x + 1))"
      ]
     },
     "execution_count": 26,
     "metadata": {},
     "output_type": "execute_result"
    }
   ],
   "source": [
    "import sympy as sy\n",
    "x=sy.Symbol(\"x\")\n",
    "f=sy.Function(\"f\")\n",
    "sol=sy.dsolve(x*f(x).diff(x)+f(x)*(1-f(x)),f(x),hint=\"Bernoulli\");\n",
    "sol"
   ]
  },
  {
   "cell_type": "markdown",
   "metadata": {},
   "source": [
    "2. 求解一阶变系数常微分方程： f'(x)-x**2*f(x)+x**4=0"
   ]
  },
  {
   "cell_type": "code",
   "execution_count": 15,
   "metadata": {},
   "outputs": [
    {
     "data": {
      "text/latex": [
       "$\\displaystyle f{\\left(x \\right)} = \\left(C_{1} - 3^{\\frac{2}{3}} \\gamma\\left(\\frac{5}{3}, \\frac{x^{3}}{3}\\right)\\right) e^{\\frac{x^{3}}{3}}$"
      ],
      "text/plain": [
       "Eq(f(x), (C1 - 3**(2/3)*lowergamma(5/3, x**3/3))*exp(x**3/3))"
      ]
     },
     "execution_count": 15,
     "metadata": {},
     "output_type": "execute_result"
    }
   ],
   "source": [
    "sol=sy.dsolve(f(x).diff(x)+x**4-x**2*f(x),f(x));\n",
    "sol"
   ]
  },
  {
   "cell_type": "markdown",
   "metadata": {},
   "source": [
    "3. 求解二阶常系数常微分方程**初值问题**y''(t)+5y'(t)+6y(t)=50cos(4t),y(0)=2,y'(0)=5"
   ]
  },
  {
   "cell_type": "code",
   "execution_count": 41,
   "metadata": {},
   "outputs": [
    {
     "name": "stdout",
     "output_type": "stream",
     "text": [
      "Eq(y(t), 2*sin(4*t) - cos(4*t) + 6*exp(-2*t) - 3*exp(-3*t))\n"
     ]
    },
    {
     "data": {
      "image/png": "[encoded data removed]",
      "text/plain": [
       "<Figure size 432x288 with 1 Axes>"
      ]
     },
     "metadata": {
      "needs_background": "light"
     },
     "output_type": "display_data"
    },
    {
     "data": {
      "text/plain": [
       "<sympy.plotting.plot.Plot at 0x1b185b50e08>"
      ]
     },
     "execution_count": 41,
     "metadata": {},
     "output_type": "execute_result"
    }
   ],
   "source": [
    "import sympy as sy;\n",
    "sy.var('t');\n",
    "y=sy.Function('y')(t)\n",
    "eq=y.diff(t,2)+5*y.diff(t)+6*y-50*sy.cos(4*t)\n",
    "ics0={y.subs(t,0):2,y.diff(t).subs(t,0):5}\n",
    "sol=sy.dsolve(eq,y,ics=ics0);\n",
    "print(sol)\n",
    "#画解函数曲线\n",
    "sy.plotting.plot(sol.rhs,(t,0,20),line_color='k',ylabel='y(t)')"
   ]
  },
  {
   "attachments": {},
   "cell_type": "markdown",
   "metadata": {},
   "source": [
    "## 边值问题求解举例\n",
    "请调用sympy.dsolve求解边值问题\n",
    " $$u''(x)+16u(x)=16x(\\pi-x),0<=x<=\\pi.$$\n",
    "解此边值问题需要的python程序bv.py如下：\n"
   ]
  },
  {
   "cell_type": "code",
   "execution_count": 28,
   "metadata": {},
   "outputs": [
    {
     "name": "stdout",
     "output_type": "stream",
     "text": [
      "u(x)= -x**2/16 + pi*x/16 + sin(4*x) - cos(4*x)/128 + 1/128\n"
     ]
    },
    {
     "data": {
      "image/png": "[encoded data removed]",
      "text/plain": [
       "<Figure size 432x288 with 1 Axes>"
      ]
     },
     "metadata": {
      "needs_background": "light"
     },
     "output_type": "display_data"
    },
    {
     "data": {
      "text/plain": [
       "<sympy.plotting.plot.Plot at 0x1b182ce5f08>"
      ]
     },
     "execution_count": 28,
     "metadata": {},
     "output_type": "execute_result"
    }
   ],
   "source": [
    "import sympy as sy\n",
    "pp=sy.plotting.plot\n",
    "sy.var('x C1')\n",
    "u=sy.Function('u')(x)\n",
    "eq=u.diff(x,2)+16*u-x*(sy.pi-x)           #方程eq=0\n",
    "ics0={u.subs(x,0):0,u.subs(x,sy.pi):0}    #边值\n",
    "sol=sy.dsolve(eq,ics=ics0)                #解边值问题\n",
    "def u(x):\n",
    "    return sol.rhs.subs({C1:1})          #取解函数\n",
    "print('u(x)=',u(x))\n",
    "v=dict(line_color='g',ylabel='u(x)')\n",
    "pp(u(x),(x,0,sy.pi),**v)"
   ]
  }
 ],
 "metadata": {
  "kernelspec": {
   "display_name": "Python 3",
   "language": "python",
   "name": "python3"
  },
  "language_info": {
   "codemirror_mode": {
    "name": "ipython",
    "version": 3
   },
   "file_extension": ".py",
   "mimetype": "text/x-python",
   "name": "python",
   "nbconvert_exporter": "python",
   "pygments_lexer": "ipython3",
   "version": "3.7.7"
  }
 },
 "nbformat": 4,
 "nbformat_minor": 4
}
