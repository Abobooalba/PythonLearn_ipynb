{
 "cells": [
  {
   "cell_type": "markdown",
   "metadata": {
    "pycharm": {
     "is_executing": false,
     "name": "#%% md\n"
    }
   },
   "source": [
    "# python 测试\n"
   ]
  },
  {
   "cell_type": "code",
   "execution_count": 1,
   "metadata": {
    "execution": {
     "iopub.execute_input": "2020-04-09T08:32:39.285Z",
     "iopub.status.busy": "2020-04-09T08:32:39.284Z",
     "iopub.status.idle": "2020-04-09T08:32:39.290Z",
     "shell.execute_reply": "2020-04-09T08:32:39.297Z"
    },
    "jupyter": {
     "outputs_hidden": false,
     "source_hidden": false
    },
    "nteract": {
     "transient": {
      "deleting": false
     }
    },
    "outputExpanded": false,
    "pycharm": {
     "is_executing": false
    }
   },
   "outputs": [],
   "source": [
    "import numpy as np\n",
    "from mayavi import mlab as mb\n",
    "x,y,z=np.mgrid[-10:10:40j,-10:10:40j,-6:6:25j];\n",
    "s=(2*x**2+3*y**2-0.5*z**2)*np.exp(-0.125*(x**2+y**2+z**2))\n",
    "cm1=\"summer\";\n",
    "cm2=\"jet\"\n",
    "mb.points3d(x,y,z,s,colormap=cm1)\n",
    "mb.show()"
   ]
  },
  {
   "cell_type": "code",
   "execution_count": null,
   "metadata": {
    "pycharm": {
     "is_executing": false,
     "name": "#%%"
    }
   },
   "outputs": [],
   "source": []
  }
 ],
 "metadata": {
  "kernel_info": {
   "name": "python37764bitjwconda684865a20ca2485aae893210708f4859"
  },
  "kernelspec": {
   "display_name": "PythonLearn",
   "language": "python",
   "name": "pythonlearn"
  },
  "language_info": {
   "codemirror_mode": {
    "name": "ipython",
    "version": 3
   },
   "file_extension": ".py",
   "mimetype": "text/x-python",
   "name": "python",
   "nbconvert_exporter": "python",
   "pygments_lexer": "ipython3",
   "version": "3.7.7"
  },
  "nteract": {
   "version": "0.22.4"
  },
  "pycharm": {
   "stem_cell": {
    "cell_type": "raw",
    "metadata": {
     "collapsed": false
    },
    "source": []
   }
  }
 },
 "nbformat": 4,
 "nbformat_minor": 1
}
