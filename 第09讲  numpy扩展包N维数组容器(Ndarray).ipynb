{
 "cells": [
  {
   "cell_type": "markdown",
   "metadata": {},
   "source": [
    "# 第09讲   numpy扩展包N维数组容器(Ndarray)\n"
   ]
  },
  {
   "cell_type": "markdown",
   "metadata": {},
   "source": [
    "##  基础知识\n",
    "\n",
    "NumPy的主要对象是同质**多维数组**。它是一个元素表（通常是数字），每个元素都是相同类型，通并过一组非负整数进行索引。在 NumPy 中，维度称为轴(axes)。\n",
    "\n",
    "* ndarray.ndim\n",
    "* ndarray.shape\n",
    "* ndarray.size\n",
    "* ndarray.dtype\n",
    "* ndarray.itemsize\n",
    "* ndarray.data"
   ]
  },
  {
   "cell_type": "code",
   "execution_count": 4,
   "metadata": {},
   "outputs": [
    {
     "name": "stdout",
     "output_type": "stream",
     "text": [
      "[[ 0  1  2  3  4]\n",
      " [ 5  6  7  8  9]\n",
      " [10 11 12 13 14]]\n",
      "(3, 5)\n",
      "2\n",
      "int32\n",
      "4\n",
      "15\n"
     ]
    },
    {
     "data": {
      "text/plain": [
       "numpy.ndarray"
      ]
     },
     "execution_count": 4,
     "metadata": {},
     "output_type": "execute_result"
    }
   ],
   "source": [
    "import numpy as np\n",
    "a = np.arange(15).reshape(3, 5)\n",
    "print(a)\n",
    "print(a.shape)\n",
    "print(a.ndim)\n",
    "print(a.dtype.name)\n",
    "print(a.itemsize)\n",
    "print(a.size)\n",
    "type(a)"
   ]
  },
  {
   "cell_type": "code",
   "execution_count": 4,
   "metadata": {},
   "outputs": [
    {
     "name": "stdout",
     "output_type": "stream",
     "text": [
      "[31 91 86 70 95 90 18 18 22 47 45 18 10 22 20 94 48 33 21 29]\n",
      "Variable   Type       Data/Info\n",
      "-------------------------------\n",
      "a          ndarray    20: 20 elems, type `int32`, 80 bytes\n",
      "np         module     <module 'numpy' from 'C:\\<...>ges\\\\numpy\\\\__init__.py'>\n"
     ]
    }
   ],
   "source": [
    "import numpy as np\n",
    "a=np.random.randint(10,100,20)\n",
    "print(a)\n",
    "%whos"
   ]
  },
  {
   "cell_type": "code",
   "execution_count": 6,
   "metadata": {},
   "outputs": [
    {
     "name": "stdout",
     "output_type": "stream",
     "text": [
      "[10 18 18 18 20 21 22 22 29 31 33 45 47 48 70 86 90 91 94 95]\n"
     ]
    }
   ],
   "source": [
    "a=np.random.randint(10,100,20)\n",
    "a.sort()\n",
    "print(a)"
   ]
  },
  {
   "cell_type": "code",
   "execution_count": 8,
   "metadata": {},
   "outputs": [
    {
     "data": {
      "text/plain": [
       "array([10, 18, 18, 18, 20, 21, 22, 22, 29, 31, 33, 45, 47, 48, 70, 86, 90,\n",
       "       91, 94, 95])"
      ]
     },
     "execution_count": 8,
     "metadata": {},
     "output_type": "execute_result"
    }
   ],
   "source": [
    "a.sort(kind='heapsort')\n",
    "a"
   ]
  },
  {
   "cell_type": "code",
   "execution_count": 9,
   "metadata": {},
   "outputs": [
    {
     "name": "stdout",
     "output_type": "stream",
     "text": [
      "[10 18 18 18 20 21 22 22 29 31 33 45 47 48 70 86 90 91 94 95] [10 18 18 18 20 21 22 22 29 31 33 45 47 48 70 86 90 91 94 95]\n"
     ]
    }
   ],
   "source": [
    "b=np.sort(a)\n",
    "print(a,b)"
   ]
  },
  {
   "cell_type": "code",
   "execution_count": 15,
   "metadata": {},
   "outputs": [
    {
     "name": "stdout",
     "output_type": "stream",
     "text": [
      "[[49 23 17 29  5 26]\n",
      " [47 15 24 40 29 49]\n",
      " [39 44 11 27  5 27]\n",
      " [25 23 16 40 24 18]]\n",
      "[[25 15 11 27  5 18]\n",
      " [39 23 16 29  5 26]\n",
      " [47 23 17 40 24 27]\n",
      " [49 44 24 40 29 49]]\n",
      "[[ 5 17 23 26 29 49]\n",
      " [15 24 29 40 47 49]\n",
      " [ 5 11 27 27 39 44]\n",
      " [16 18 23 24 25 40]]\n",
      "[[ 5  5 11 15 16 17]\n",
      " [18 23 23 24 24 25]\n",
      " [26 27 27 29 29 39]\n",
      " [40 40 44 47 49 49]]\n"
     ]
    }
   ],
   "source": [
    "b=np.random.randint(1,50,24)\n",
    "a=b.reshape(4,6)\n",
    "\n",
    "a0=np.sort(a,axis=0) #竖排序\n",
    "a1=np.sort(a,axis=1) #横排序\n",
    "a2=np.sort(a,axis=None).reshape(4,6) #展平排序再折叠\n",
    "print(a)\n",
    "print(a0)\n",
    "print(a1)\n",
    "print(a2)"
   ]
  },
  {
   "cell_type": "code",
   "execution_count": 1,
   "metadata": {},
   "outputs": [],
   "source": [
    "# help(np.sort)"
   ]
  },
  {
   "cell_type": "code",
   "execution_count": 47,
   "metadata": {},
   "outputs": [
    {
     "name": "stdout",
     "output_type": "stream",
     "text": [
      "Help on built-in function random:\n",
      "\n",
      "random(...) method of numpy.random.mtrand.RandomState instance\n",
      "    random(size=None)\n",
      "    \n",
      "    Return random floats in the half-open interval [0.0, 1.0). Alias for\n",
      "    `random_sample` to ease forward-porting to the new random API.\n",
      "\n"
     ]
    }
   ],
   "source": [
    "help( np.random.random)"
   ]
  },
  {
   "cell_type": "code",
   "execution_count": 2,
   "metadata": {},
   "outputs": [],
   "source": [
    "# help(np.argmin)"
   ]
  }
 ],
 "metadata": {
  "kernelspec": {
   "display_name": "Python 3",
   "language": "python",
   "name": "python3"
  },
  "language_info": {
   "codemirror_mode": {
    "name": "ipython",
    "version": 3
   },
   "file_extension": ".py",
   "mimetype": "text/x-python",
   "name": "python",
   "nbconvert_exporter": "python",
   "pygments_lexer": "ipython3",
   "version": "3.7.7"
  }
 },
 "nbformat": 4,
 "nbformat_minor": 4
}
