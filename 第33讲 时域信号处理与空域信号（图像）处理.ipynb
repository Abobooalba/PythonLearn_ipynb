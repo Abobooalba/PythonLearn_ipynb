{
 "cells": [
  {
   "cell_type": "markdown",
   "metadata": {},
   "source": [
    "# 第33讲 时域信号处理与空域信号 (图像)处理"
   ]
  },
  {
   "cell_type": "markdown",
   "metadata": {},
   "source": [
    "scipy.signal含有200多个信号处理函数：TransferFunction， StateSpace，tf2ss，其它（略），这些函数能够完成对信号的各种处理。\n",
    "\n",
    "信号处理，就是将信号作为“各种滤波”系统的输入信号，经过系统滤波（即求解系统输出信号）完成对信号的处理。\n",
    "因此信号处理任务核心是构建具有各种特性的**滤波系统**，并求解系统输出信号。\n"
   ]
  },
  {
   "cell_type": "markdown",
   "metadata": {},
   "source": [
    "## 连续系统的传递函数描述方法\n",
    "\n",
    "传递函数是指零初始条件下线性系统响应（即输出）量的拉普拉斯变换（或z变换）与激励（即输入）量的拉普拉斯变换之比。\n",
    "记作G(s)=Y(s)/U(s)，其中Y(s)、U(s)分别为输出量和输入量的拉普拉斯变换。\n",
    "\n",
    "线性系统的n阶微分方程为：\n",
    "$$\n",
    "\\sum_{𝑘=0}^{𝑛}{𝑎_{𝑛−𝑘}𝑦^{(𝑘)}(𝑡)}\n",
    "=\\sum_{𝑘=0}^{𝑚}{𝑏_{𝑚−𝑘}𝑓^{(𝑘)}(𝑡)} (𝑚≤𝑛),\n",
    "$$\n",
    "$𝑦^{𝑙}(0),𝑙=0,1,…𝑛−1(已知),y(t)为系统输出信号，f(t)为系统输入信号.$\n",
    "\n",
    "取拉普拉斯变换得到\n",
    "$$\n",
    "𝐴(𝑠)𝑌(𝑠)=𝐵(𝑠)𝐹(𝑠)+𝐶(𝑠)\n",
    "$$\n",
    "$$\n",
    "𝑌(𝑠)=\\int_{0_−}^{∞}{𝑦(𝑡) 𝑒^{−𝑠 𝑡}𝑑𝑡},\n",
    "$$\n",
    "$$\n",
    "𝐹(𝑠)=\\int_{0_+}^{∞}{𝑓(𝑡)𝑒^{−𝑠 𝑡)}𝑑𝑡}\n",
    "$$\n",
    "$$\n",
    "𝐴(𝑠)=\\sum_{𝑘=0}^{𝑛}{𝑎_{𝑛−𝑘}𝑠^𝑘}=𝑎_{0}𝑠^{𝑛}+…+𝑎_{𝑛},\n",
    "$$\n",
    "$$\n",
    "𝐵(𝑠)=\\sum_{𝑘=0}^{𝑚}{𝑏_{𝑚−𝑘}𝑠^𝑘}=𝑏_{0}𝑠^{𝑚}+…+𝑏_{𝑚},\n",
    "$$\n",
    "$$\n",
    "𝐶(𝑠)=\\sum_{𝑙=0}^{𝑛−1}{𝑎_{𝑙}}\\sum_{𝑗=0}^{𝑛−1−𝑙}{𝑦^{𝑛−1−𝑙−𝑗}(0) 𝑠^𝑗 }\n",
    "$$\n",
    "\n",
    "\n",
    "定义线性时不变系统的**传递函数**为:\n",
    "\n",
    "$TF(s)=B(s)/A(s)$(实系数有理分式函数)，\n",
    "则有\n",
    "$$\n",
    "Y_{zs}(s)=TF(s)F(s),  y_{zs}(t)=ILT[Y_{zs}(s)]\n",
    "$$\n",
    "$$\n",
    "Y_{zi}(s)=C(s)/A(s),  y_{zi}(t)=ILT[Y_{zi}(s)]\n",
    "$$\n",
    "$$\n",
    "y(t)=y_{zs}(t)+y_{zi}(t),\n",
    "$$\n",
    "\n",
    "(1) 系统结构和输入信号共同决定系统**零状态响应$y_{zs}(t)$**；\n",
    "\n",
    "(2) 系统结构和历史(初值$y(0),y'(0),...)$共同决定系统**零输入响应$y_{zi}(t)$**；\n",
    "\n",
    "(3) 系统结构、历史(初值$y(0),y'(0),...)$、输入信号共同决定**全响应$y(t)$**.\n"
   ]
  },
  {
   "cell_type": "markdown",
   "metadata": {},
   "source": [
    "例如，连续线性二阶时不变系统为  \n"
   ]
  },
  {
   "cell_type": "code",
   "execution_count": 4,
   "metadata": {},
   "outputs": [
    {
     "name": "stdout",
     "output_type": "stream",
     "text": [
      "TransferFunctionContinuous(\n",
      "array([ 1., -5.,  6.]),\n",
      "array([1., 4., 3.]),\n",
      "dt: None\n",
      ")\n"
     ]
    }
   ],
   "source": [
    "import numpy as np\n",
    "from scipy import signal\n",
    "\n",
    "# y''(t)+4*y'(t)+3*y(t)=f''(t)-5*f'(t)+6*f(t)\n",
    "# H(s)=(s^2-5*s+6)/(s^2+4*s+3);\n",
    "# X0=[y'(0),y(0)]\n",
    "\n",
    "num=[1,-5,6]\n",
    "den=[1,4,3]    \n",
    "tf1=signal.TransferFunction(num,den)\n",
    "print(tf1)"
   ]
  },
  {
   "cell_type": "markdown",
   "metadata": {},
   "source": [
    "该系统求解步骤：\n",
    "\n",
    "1.求简化系统$x''(t)+4x'(t)+3x(t)=f(t)$的0状态(即初值全为0)响应$x_{zs}(t)$（以及$f(t)=d(t)$的单位脉冲响应$impulse(t)$、\n",
    "$f(t)=h(t)$的单位阶跃响应$step(t)$) .\n",
    "\n",
    "2.求无输入系统$x''(t)+4x'(t)+3x(t)=0$且初值为$X0=[y'(0),y(0)]$的0输入响应$x_{zi}(t)$.\n",
    "\n",
    "3.构建原系统响应y(t)：\n",
    "\n",
    " $ y(t)=x_{zs}''(t)-5x_{zs}'(t)+6x_{zs}(t)+x_{zi}(t) =[x_{zs}''(t),x_{zs}'(t),x_{zs}(t)].dot(num)+x_{zi}(t)]$"
   ]
  },
  {
   "cell_type": "markdown",
   "metadata": {},
   "source": [
    "## 离散系统的传递函数描述方法\n",
    "\n",
    "\n",
    "$$\n",
    "\\sum_{j=0}^{𝑛}{𝑎_{j}𝑦(𝑘-j)}\n",
    "=\\sum_{𝑘=0}^{𝑚}{𝑏_{j}𝑓(𝑘-j)}    ,(𝑚≤𝑛),\n",
    "𝑦(-𝑙),𝑙=1,…𝑛(已知)\n",
    "$$\n",
    "对方程取z变换得到\n",
    "$$\n",
    "𝐴(z)𝑌(z)=𝐵(z)𝐹(z)+𝐶(z)\n",
    "$$\n",
    "$$\n",
    "𝑌(z)=\\sum_{k=0}^{∞}{𝑦(k) z^{-k}},𝐹(z)=\\sum_{k=0}^{∞}{𝑓(k)z^{−k)}}\n",
    "$$\n",
    "$$\n",
    "𝐴(z)=\\sum_{l=0}^{𝑛}{𝑎_{l}z^{-l}}=𝑎_{1}z^{-1}+…+𝑎_{n}z^{-𝑛},\n",
    "$$\n",
    "$$\n",
    "𝐵(z)=\\sum_{l=0}^{𝑚}{𝑏_{l}z^{-l}}=𝑏_{0}+𝑏_{1}z^{-1}+…+𝑏_{𝑚}z^{-m},\n",
    "$$\n",
    "$$\n",
    "𝐶(z)=\\sum_{𝑙=0}^{𝑛−1}{𝑎_{𝑙}}\\sum_{k=0}^{𝑙-1}{𝑦(k−𝑙) z^{-k} }\n",
    "$$\n",
    "\n",
    "\n",
    "定义线性时不变系统的传递函数为\n",
    "\n",
    "$TF(z)=B(z)/A(z)$(实系数有理分式函数)，则有\n",
    "\n",
    "Yzs(z)=TF(z)F(z),yzs(k)=IZT[Yzs(z)]\n",
    "\n",
    "Yzi(z)=C(z)/A(z),yzi(k)=IZT[Yzi(z)]\n",
    "\n",
    "y(k)=yzs(k)+yzi(k),\n",
    "\n",
    "(1) 系统结构和输入信号共同决定系统零状态响应yzs(k)；\n",
    "\n",
    "\n",
    "(2) 系统结构和历史(初值用y(-1),y(-2),...y(-n))共同决定系统零输入响应yzi(k)；\n",
    "\n",
    "\n",
    "(3)  系统结构、历史(初值)、输入信号共同结构相同全响应y(k)\n"
   ]
  },
  {
   "cell_type": "markdown",
   "metadata": {},
   "source": [
    "例如，离散线性二阶时不变系统为 "
   ]
  },
  {
   "cell_type": "code",
   "execution_count": 2,
   "metadata": {},
   "outputs": [
    {
     "name": "stdout",
     "output_type": "stream",
     "text": [
      "TransferFunctionDiscrete(\n",
      "array([ 1., -5.,  6.]),\n",
      "array([1., 4., 3.]),\n",
      "dt: 0.01\n",
      ")\n"
     ]
    }
   ],
   "source": [
    "import numpy as np\n",
    "from scipy import signal\n",
    "# y(k)+4y(k-1)+3y(k-2)=f(k)-5f(k-1)+6f(k-2)\n",
    "# H(z)=(1-5/z+6/z^2)/(1+4/z+3/z^2)\n",
    "# X0=[y(-1),y(-2)]\n",
    "\n",
    "num=[1,-5,6];\n",
    "den=[1,4,3];\n",
    "tf2=signal.TransferFunction(num,den,dt=0.01)\n",
    "print(tf2)"
   ]
  },
  {
   "cell_type": "markdown",
   "metadata": {},
   "source": [
    "该系统求解步骤：\n",
    "\n",
    " 1. 求简化系统$x(k)+4x(k-1)+3x(k-2)=f(k)$的0状态(即初值全为0)响应$x_{zs}(k)$（以及$f(k)=d(k)$的单位脉冲响应$impulse(k)$、$f(k)=h(k)$的单位阶跃响应$step(k))$ .\n",
    " \n",
    " 2. 求无输入系统$x(k)+4x(k-1)+3x(k-2)=0$且初值为$X0=[y(-2),y(-1)]$的0输入响应$x_{zi}(k)$.\n",
    " \n",
    " 3. 构建原系统响应$y(k)$：\n",
    " \n",
    "  $y(k)=x_{zs}(k)-5x_{zs}(k-1)+6x_{zs}(k-2)+x_{zi}(k)=[x_{zs}(k),x_{zs}(k-1),x_{zs}(k-2)].dot(num)+x_{zi}(k)]$\n"
   ]
  },
  {
   "cell_type": "markdown",
   "metadata": {},
   "source": [
    "## 信号处理python 编程"
   ]
  },
  {
   "cell_type": "code",
   "execution_count": 13,
   "metadata": {},
   "outputs": [
    {
     "name": "stdout",
     "output_type": "stream",
     "text": [
      "TransferFunctionContinuous(\n",
      "array([ 1., -5.,  6.]),\n",
      "array([1., 4., 3.]),\n",
      "dt: None\n",
      ")\n",
      "TransferFunctionContinuous(\n",
      "array([1.]),\n",
      "array([1., 4., 3.]),\n",
      "dt: None\n",
      ")\n",
      "TransferFunctionDiscrete(\n",
      "array([ 1., -5.,  6.]),\n",
      "array([1., 4., 3.]),\n",
      "dt: 0.01\n",
      ")\n"
     ]
    }
   ],
   "source": [
    "from scipy import signal as sg\n",
    "num=[1,-5,6];\n",
    "den=[1,4,3];\n",
    "#x0=[y`(0),y(0)]\n",
    "x0=[0.5,2] #初值\n",
    "tf1=sg.TransferFunction(num,den);#原系统\n",
    "print(tf1)\n",
    "\n",
    "t=np.linspace(0,5,101);\n",
    "\n",
    "\n",
    "tf1.outputs\n",
    "tf0=sg.TransferFunction([1],[1,4,3])#简化系统\n",
    "print(tf0)\n",
    "tf2=sg.TransferFunction(num,den,dt=0.01)#离散系统\n",
    "print(tf2)"
   ]
  },
  {
   "cell_type": "markdown",
   "metadata": {},
   "source": [
    "tf1和tf2有如下内嵌函数：\n",
    "\n",
    "bode(), freqresp(),poles,to_ss(),zeros, impulse(),output(),step(),to_tf(),  inputs,outputs, to_discrete(), to_zpk(),num,den,dt\n",
    "\n",
    "准备好输入信号采样u和时间采样t以及初值x0\n",
    "\n",
    "1. 调用tf0.output(u,t,X0=None)求出x''(t)+4x'(t)+3x(t)=f(t)系统在输入信号u激励下的响应xzs(t)\n",
    "\n",
    "2. 调用tf0.output(0*u,t,X0=x0)求出系统在初值激励下的0输入响应xzi(t)\n",
    "\n",
    "3. 原系统响应y(t)=xzs''(t)-5xzs'(t)+6xzs(t) +xzi(t)。\n",
    "\n",
    "   调用tf1.impulse()和tf1.step()求系统的单位脉冲响应和单位阶跃响应时，系统的退化为tf0。\n",
    "   \n",
    "   系统的频率响应为tf1. freqresp(),系统波特率为tf1.bode(). \n",
    "   \n",
    "   对于二阶系统，ts,yzs,x=tf1.output(u,t,X0=None)将输出num=[1]对应的系统状态变量响应xzs(t)=x[:,1]及其一阶导数xzs'(t)=x[:,0],而yzs(t)对应系统0状态响应，它也等于x''(t)-5x'(t)+6x(t).\n",
    "   \n",
    "  "
   ]
  },
  {
   "cell_type": "code",
   "execution_count": null,
   "metadata": {},
   "outputs": [],
   "source": [
    "t=np.linspace(0,10,501);\n",
    "ts,ys=tf0.step(T=t,X0=None);\n",
    "pl.plot(ts,ys);pl.show()"
   ]
  },
  {
   "cell_type": "markdown",
   "metadata": {},
   "source": [
    "## 零状态响应"
   ]
  },
  {
   "cell_type": "code",
   "execution_count": 14,
   "metadata": {},
   "outputs": [
    {
     "data": {
      "image/png": "[encoded data removed]",
      "text/plain": [
       "<Figure size 432x288 with 1 Axes>"
      ]
     },
     "metadata": {
      "needs_background": "light"
     },
     "output_type": "display_data"
    }
   ],
   "source": [
    "from scipy import signal as sg\n",
    "import pylab as pl\n",
    "import numpy as np\n",
    "\n",
    "num=[1,-5,6];\n",
    "den=[1,4,3]\n",
    "\n",
    "y0=[0,0]    #y0=[y'(0),y(0)] #初值\n",
    "\n",
    "t=np.linspace(0,5,101)  #时间采样\n",
    "\n",
    "def h(x):  #阶跃信号\n",
    "    if x>0: \n",
    "        return 1\n",
    "    else:\n",
    "        if x==0:\n",
    "            return 0.5\n",
    "        return 0\n",
    "    \n",
    "u=np.cos(12*t)*np.array(list(map(h,t)));  # 输入信号\n",
    "\n",
    "tf=sg.TransferFunction([1],den)           # 定义系统\n",
    "\n",
    "ts,yzs,xzs=tf.output(U=u,T=t,X0=y0)       # 系统求解\n",
    "\n",
    "pl.rcParams['font.sans-serif']=['SimSun']\n",
    "pl.rcParams['axes.unicode_minus']=False\n",
    "pl.rcParams['font.size']=18\n",
    "pl.plot(ts,10*yzs,'g-.',lw=2)\n",
    "pl.xlabel('t');\n",
    "pl.ylabel('yzs(t)');\n",
    "pl.title(\"zero state response:f(t)=cos(12t)*h(t)\")\n",
    "pl.show()"
   ]
  },
  {
   "cell_type": "markdown",
   "metadata": {},
   "source": [
    "## 零输入响应之一由X0和den决定与num无关\n",
    "## 零输入响应之二由X0和den和num共同决定\n"
   ]
  },
  {
   "cell_type": "code",
   "execution_count": 4,
   "metadata": {},
   "outputs": [
    {
     "data": {
      "image/png": "[encoded data removed]",
      "text/plain": [
       "<Figure size 432x288 with 1 Axes>"
      ]
     },
     "metadata": {
      "needs_background": "light"
     },
     "output_type": "display_data"
    }
   ],
   "source": [
    " \n",
    "from scipy import signal as sg\n",
    "import pylab as pl\n",
    "npp=pl.np\n",
    "\n",
    "num=[1,-5,6];\n",
    "den=[1,4,3]\n",
    "y0=[0.5,2]#y0=[y'(0),y(0)]\n",
    "t=npp.linspace(0,5,501)\n",
    "\n",
    "tf1=sg.TransferFunction([1],den)\n",
    "\n",
    "ts,yzi1,x1=tf1.output(U=None,T=t,X0=y0)\n",
    "\n",
    "tf2=sg.TransferFunction(num,den)\n",
    "ts,yzi2,x2=tf2.output(U=None,T=t,X0=y0)\n",
    "\n",
    "pl.plot(ts,yzi1,'r-.',ts,yzi2,'g-.',lw=2)\n",
    "pl.xlabel('t')\n",
    "pl.ylabel('yzi1(t),yzi2(t)');\n",
    "pl.legend(['yzi1(t)','yzi2(t)']);\n",
    "pl.title(\"zero input response:y'(0)=0.5,y(0)=2\")\n",
    "pl.text(2.5,6,'yzi1==>num=[1]\\nyzi2==>num=[1,-5,6]')\n",
    "pl.show()"
   ]
  },
  {
   "cell_type": "markdown",
   "metadata": {},
   "source": [
    "## 系统零极增益描述方法\n",
    "\n",
    "输入信号给定后，系统的零状态响应$Y_{zs}(s)$完全由系统结构决定。系统的传递函数也可以由$A(s)$零点（即传递函数的极点p1,p2,...）和B(s)的零点(z1,z2,...)以及一个增益因子k完全决定，即\n",
    "$$\n",
    "TF(s)=\\frac{B(s)}{A(s)}=\\frac{k(s-z_{1})...(s-z_{m})}{(s-p_{1})...(s-p_{n})}\n",
    "$$\n",
    "\n",
    "给定系统的零点(z1,z2,...)、极点(p1,p2,...)和增益k，系统的结构就唯一确定了。因此系统结构，既可以用传递函数TF(s)描述，也可以用零极点和增益zpk来描述。\n",
    "\n",
    "例如 "
   ]
  },
  {
   "cell_type": "code",
   "execution_count": 32,
   "metadata": {},
   "outputs": [
    {
     "data": {
      "text/plain": [
       "ZerosPolesGainContinuous(\n",
       "array([2, 3]),\n",
       "array([-1, -3]),\n",
       "[10],\n",
       "dt: None\n",
       ")"
      ]
     },
     "execution_count": 32,
     "metadata": {},
     "output_type": "execute_result"
    }
   ],
   "source": [
    "z=[2,3];\n",
    "p=[-1,-3];\n",
    "k=[10]; \n",
    "ZPG=sg.ZerosPolesGain(z,p,k); \n",
    "ZPG"
   ]
  },
  {
   "cell_type": "code",
   "execution_count": 33,
   "metadata": {},
   "outputs": [
    {
     "data": {
      "text/plain": [
       "TransferFunctionContinuous(\n",
       "array([ 10., -50.,  60.]),\n",
       "array([1., 4., 3.]),\n",
       "dt: None\n",
       ")"
      ]
     },
     "execution_count": 33,
     "metadata": {},
     "output_type": "execute_result"
    }
   ],
   "source": [
    "ZPG.to_tf()"
   ]
  },
  {
   "cell_type": "code",
   "execution_count": 34,
   "metadata": {},
   "outputs": [
    {
     "data": {
      "text/plain": [
       "StateSpaceContinuous(\n",
       "array([[-4., -3.],\n",
       "       [ 1.,  0.]]),\n",
       "array([[1.],\n",
       "       [0.]]),\n",
       "array([[-90.,  30.]]),\n",
       "array([[10.]]),\n",
       "dt: None\n",
       ")"
      ]
     },
     "execution_count": 34,
     "metadata": {},
     "output_type": "execute_result"
    }
   ],
   "source": [
    "ZPG.to_ss()"
   ]
  },
  {
   "cell_type": "markdown",
   "metadata": {},
   "source": [
    "## 系统的状态空间(变量)描述方法\n",
    "\n",
    "一个有n个动态元件的线性时不变系统，既可以用传递函数描述，也可以选定n个状态变量来描述。\n",
    "$$\n",
    "\\frac{d}{dt}{\\left(\n",
    "\\begin{array}{c}\n",
    "x_{1}(t)\\\\\n",
    "...    \\\\\n",
    "x_{n}(t)  \n",
    "\\end{array} \n",
    "\\right )}\n",
    "=\n",
    "A{\\left(\n",
    "\\begin{array}{c}\n",
    "x_{1}(t)\\\\\n",
    "...    \\\\\n",
    "x_{n}(t)  \n",
    "\\end{array} \n",
    "\\right )}\n",
    "+\n",
    "B{\\left(\n",
    "\\begin{array}{c}\n",
    "f_{1}(t)\\\\\n",
    "...    \\\\\n",
    "f_{m}(t)  \n",
    "\\end{array} \n",
    "\\right )}\n",
    "$$\n",
    "\n",
    "𝐴、B分别𝑛∗𝑛、𝑛∗𝑚常数矩阵\n",
    "\n",
    "系统响应\n",
    "\n",
    "$$\n",
    "{\\left(\n",
    "\\begin{array}{c}\n",
    "y_{1}(t)\\\\\n",
    "...    \\\\\n",
    "y_{r}(t)  \n",
    "\\end{array} \n",
    "\\right )}\n",
    "=\n",
    "C{\\left(\n",
    "\\begin{array}{c}\n",
    "x_{1}(t)\\\\\n",
    "...    \\\\\n",
    "x_{n}(t)  \n",
    "\\end{array} \n",
    "\\right )}\n",
    "+\n",
    "D{\\left(\n",
    "\\begin{array}{c}\n",
    "f_{1}(t)\\\\\n",
    "...    \\\\\n",
    "f_{m}(t)  \n",
    "\\end{array} \n",
    "\\right )}\n",
    "$$\n",
    "\n",
    "𝐶、D分别𝑟∗𝑛、𝑟∗𝑚常数矩阵"
   ]
  },
  {
   "cell_type": "markdown",
   "metadata": {},
   "source": [
    "对方程取拉普拉斯变换得到\n",
    "\n",
    "sX(s)=AX(s)+BF(s)+x(0),Y(s)=CX(s)+DF(s)\n",
    "\n",
    "矩阵(Ins-A)的逆矩阵记为M(s),则有\n",
    "\n",
    "X(s)=M(s)(BF(s)+x(0))，x(t)=ILT[X(s)]!\n",
    "\n",
    "\n",
    "$$\n",
    "x(t)={\\left(\n",
    "\\begin{array}{c}\n",
    "x_{1}(t)\\\\\n",
    "...    \\\\\n",
    "x_{n}(t)  \n",
    "\\end{array} \n",
    "\\right )},\n",
    "x(0)={\\left(\n",
    "\\begin{array}{c}\n",
    "x_{1}(0)\\\\\n",
    "...    \\\\\n",
    "x_{n}(0)  \n",
    "\\end{array} \n",
    "\\right )},\n",
    "X(S)={\\left(\n",
    "\\begin{array}{c}\n",
    "X_{1}(s)\\\\\n",
    "...    \\\\\n",
    "X_{n}(s)  \n",
    "\\end{array} \n",
    "\\right )},\n",
    "$$\n",
    "$$\n",
    "X_{j}(s)=\\int_{0}^{\\infty}{x_{j}(t)e^{-st}}dt,\n",
    "x_{j}(t)=ILT(X_{j}(s)]\n",
    "$$\n",
    "\n",
    "例如"
   ]
  },
  {
   "cell_type": "code",
   "execution_count": 26,
   "metadata": {},
   "outputs": [
    {
     "data": {
      "text/plain": [
       "StateSpaceContinuous(\n",
       "array([[-4., -3.],\n",
       "       [ 1.,  0.]]),\n",
       "array([[1.],\n",
       "       [0.]]),\n",
       "array([[-90.,  30.]]),\n",
       "array([[10.]]),\n",
       "dt: None\n",
       ")"
      ]
     },
     "execution_count": 26,
     "metadata": {},
     "output_type": "execute_result"
    }
   ],
   "source": [
    "A=[[-4., -3.],[ 1.,0.]]\n",
    "B=[[1.],[0.]]\n",
    "C=[[-90.,30.]]\n",
    "D=[[10.]]\n",
    "s=sg.StateSpace(A,B,C,D)\n",
    "s"
   ]
  },
  {
   "cell_type": "markdown",
   "metadata": {},
   "source": [
    "## 调用sg.lti构建连续线性时不变系统举例\n",
    "\n",
    "sg.lti用来构建连续线性时不变系统。sg.dlti用来构建离散线性时不变系统。   \n",
    "\n",
    "有了系统，我们就可以调用step, impulse,output,bode,freqresp来求系统响应，也就是求信号被处理后的“形象”。\n"
   ]
  },
  {
   "cell_type": "code",
   "execution_count": 27,
   "metadata": {},
   "outputs": [
    {
     "data": {
      "text/plain": [
       "TransferFunctionContinuous(\n",
       "array([ 1., -5.,  6.]),\n",
       "array([1., 4., 3.]),\n",
       "dt: None\n",
       ")"
      ]
     },
     "execution_count": 27,
     "metadata": {},
     "output_type": "execute_result"
    }
   ],
   "source": [
    "st1=sg.lti([1,-5,6],[1,4,3]);st1"
   ]
  },
  {
   "cell_type": "code",
   "execution_count": 28,
   "metadata": {},
   "outputs": [
    {
     "data": {
      "text/plain": [
       "ZerosPolesGainContinuous(\n",
       "array([3, 2]),\n",
       "array([-3, -1]),\n",
       "[1],\n",
       "dt: None\n",
       ")"
      ]
     },
     "execution_count": 28,
     "metadata": {},
     "output_type": "execute_result"
    }
   ],
   "source": [
    "st2=sg.lti([3,2],[-3,-1],[1]);st2"
   ]
  },
  {
   "cell_type": "code",
   "execution_count": 29,
   "metadata": {},
   "outputs": [
    {
     "data": {
      "text/plain": [
       "StateSpaceContinuous(\n",
       "array([[-4, -3],\n",
       "       [ 1,  0]]),\n",
       "array([[1],\n",
       "       [0]]),\n",
       "array([[-9,  3]]),\n",
       "array([[1]]),\n",
       "dt: None\n",
       ")"
      ]
     },
     "execution_count": 29,
     "metadata": {},
     "output_type": "execute_result"
    }
   ],
   "source": [
    "st3=sg.lti([[-4,-3],[1,0]],[[1],[0]],[[-9,3]],[[1]]);st3"
   ]
  },
  {
   "cell_type": "code",
   "execution_count": 30,
   "metadata": {},
   "outputs": [
    {
     "data": {
      "text/plain": [
       "ZerosPolesGainContinuous(\n",
       "array([ 1, -1,  2, -2]),\n",
       "array([-3, -4, -5, -6]),\n",
       "[5],\n",
       "dt: None\n",
       ")"
      ]
     },
     "execution_count": 30,
     "metadata": {},
     "output_type": "execute_result"
    }
   ],
   "source": [
    "st4=sg.lti([1,-1,2,-2],[-3,-4,-5,-6],[5]);st4"
   ]
  },
  {
   "cell_type": "code",
   "execution_count": 31,
   "metadata": {},
   "outputs": [
    {
     "data": {
      "text/plain": [
       "TransferFunctionContinuous(\n",
       "array([  5.,   0., -25.,   0.,  20.]),\n",
       "array([  1.,  18., 119., 342., 360.]),\n",
       "dt: None\n",
       ")"
      ]
     },
     "execution_count": 31,
     "metadata": {},
     "output_type": "execute_result"
    }
   ],
   "source": [
    "st4.to_tf()"
   ]
  },
  {
   "cell_type": "markdown",
   "metadata": {},
   "source": [
    "## 信号处理函数包scipy.signal中的函数分类\n",
    "\n",
    "1. 系统描述函数(状态空间矩阵，传递函数分子分母多项式系数， 零点极点复数及增益值)，例如StateSpace,TransferFunction,ZerosPolesGain,lti(线性时不变系统),dlti(离散线性时不变系统)\n",
    "\n",
    "2. 系统多种描述的相互转换，例如ss2tf,ss2zpk,tf2sos,tf2ss,tf2zpk,zpk2sos,zpk2ss,zpk2tf\n",
    "\n",
    "3. 系统的脉冲响应、阶跃响应函数，例如impulse,impulse2,step,step2\n",
    "\n",
    "4. 滤波器设计函数，例如filter_design，fir_filter_design，firls，iirdesign,iirfilter,buttap,butter, buttord,cheb1ap,cheb1ord,cheb2ap,cheb2ord,chebwin,cheby1,cheby2,ellip,ellipap,ellipord\n",
    "\n",
    "5. 信号滤波函数，例如filtfilt,sosfiltfilt, lfilter_zi, lfilter, lfiltic, savgol_filter, sosfil\n",
    "\n",
    "6. 系统响应函数，例如bode,sosfreqz,dfreqresp,freqresp,freqs,freqs_zpk,freqz,freqz_zpk,sosfreqz, spectral, spectrogram\n",
    "\n",
    "7. 各种窗函数，例如barthann,bartlett,bohman,nuttall,parzen,welch,hamming,hann,hanning,gaussian\n"
   ]
  },
  {
   "cell_type": "markdown",
   "metadata": {},
   "source": [
    "## 信号系统（常微分方程）求解小结：\n",
    "\n",
    "1. 依据微分方程的系数写出\n",
    "\n",
    "num=[1,-5,6]和den=[1,4,3]  并写出初值x0=[0.5，2]\n",
    "\n",
    "2. 调用\n",
    "s=scipy.signal.TracnsferFunction(num,den) \n",
    "s0=scipy.signal.TracnsferFunction([1],den) \n",
    "创建系统\n",
    "\n",
    "3. 准备好时间和输入信号u的采样\n",
    "\n",
    "4. 求yzs\n",
    "\n",
    "t0,yzs,xzs=s.output(U=u,T=t,X0=None)\n",
    "\n",
    "5. 求yzi\n",
    "\n",
    "t0,yzi,xzi=s.output(U=None,T=t,X0=x0)\n",
    "\n",
    "6. y=yzs+yzi\n"
   ]
  },
  {
   "cell_type": "markdown",
   "metadata": {},
   "source": [
    "## 图像处理：几何变换，滤波，测量\n",
    "用到scipy.ndimage和scipy.signal子包及numpy包\n"
   ]
  },
  {
   "cell_type": "markdown",
   "metadata": {},
   "source": [
    "图像几何变换处理举例"
   ]
  },
  {
   "cell_type": "code",
   "execution_count": null,
   "metadata": {},
   "outputs": [],
   "source": [
    "from scipy import ndimage as ni\n",
    "import pylab as pl\n",
    "import numpy as np\n",
    "from scipy import misc as mc\n",
    "a=mc.ascent()\n",
    "# 几何变换：\n",
    "# 右旋30度：\n",
    "a_r=ni.rotate(a,30);\n",
    "#向右下移动50点：\n",
    "a_s=ni.shift(a,(50,50),mode='nearest');\n",
    "#放大到原图的两倍：\n",
    "a_z=ni.zoom(a,2)\n",
    "#缩小到原图的0.5倍：\n",
    "a_z2=ni.zoom(a,0.5)\n",
    "pl.subplot(221);pl.imshow(a_r)\n",
    "pl.subplot(222);pl.imshow(a_s)\n",
    "pl.subplot(223);pl.imshow(a_z);\n",
    "pl.subplot(224);pl.imshow(a_z2);\n",
    "pl.show()\n",
    "#图像的90度旋转，上下左右翻转、裁切已经在数组操作部分学习过了！\n"
   ]
  },
  {
   "cell_type": "markdown",
   "metadata": {},
   "source": [
    "filters,滤波器函数集合：\n",
    "\n",
    "convolve,convolve1d,correlate,correlate1d,n_filter, gaussian_filter，gaussian_filter1d,gaussian_gradient_magnitude, gaussian_laplace,generic_filter, generic_filter1d, generic_gradient_magnitude,generic_laplace,laplace,\n",
    "maximum_filter,maximum_filter1d,median_filter,minimum_filter, minimum_filter1d,percentile_filter,rank_filter,sobel,uniform_filter, uniform_filter1d,fourier_ellipsoid,fourier_gaussian,fourier_shift, fourier_uniform"
   ]
  },
  {
   "cell_type": "markdown",
   "metadata": {},
   "source": [
    "图像滤波"
   ]
  },
  {
   "cell_type": "code",
   "execution_count": 5,
   "metadata": {},
   "outputs": [
    {
     "name": "stderr",
     "output_type": "stream",
     "text": [
      "Clipping input data to the valid range for imshow with RGB data ([0..1] for floats or [0..255] for integers).\n",
      "Clipping input data to the valid range for imshow with RGB data ([0..1] for floats or [0..255] for integers).\n",
      "Clipping input data to the valid range for imshow with RGB data ([0..1] for floats or [0..255] for integers).\n"
     ]
    },
    {
     "data": {
      "image/png": "[encoded data removed]",
      "text/plain": [
       "<Figure size 432x288 with 4 Axes>"
      ]
     },
     "metadata": {
      "needs_background": "light"
     },
     "output_type": "display_data"
    }
   ],
   "source": [
    "import numpy as np\n",
    "import matplotlib.pyplot as plt\n",
    "from scipy import ndimage as ni\n",
    "\n",
    "from imageio import imread,imwrite\n",
    "\n",
    "a=imread(\"snut.jpg\")    #导入uint8，数据值=0~255，图像 \n",
    "\n",
    "af = np.copy(a).astype(np.float);\n",
    "\n",
    "af/=af.max()#转为实数(0,1)图像\n",
    "\n",
    "afn=af +af.std()*np.random.standard_normal(af.shape);\n",
    "afn+=afn.min();\n",
    "afn/=np.max(afn) #给图像加噪波\n",
    "b=afn.copy()\n",
    "for i in range(3):\n",
    "    b[:,:,i]=ni.gaussian_filter(afn[:,:,i],sigma=3)#逐层滤波\n",
    "    \n",
    "b+=b.min();\n",
    "b/=np.max(b)#高斯滤波\n",
    "m=afn.copy()\n",
    "for i in range(3):\n",
    "    m[:,:,i]=ni.median_filter(afn[:,:,i],size=5)#逐层滤波\n",
    "m+=m.min();\n",
    "m/=np.max(m)#中值滤波\n",
    "\n",
    "plt.subplot(221);\n",
    "plt.imshow(af)\n",
    "plt.subplot(222)\n",
    "plt.imshow(afn)\n",
    "plt.subplot(223);\n",
    "plt.imshow(b,cmap='winter')\n",
    "plt.subplot(224);\n",
    "plt.imshow(m,cmap='summer')\n",
    "plt.show()"
   ]
  },
  {
   "cell_type": "code",
   "execution_count": null,
   "metadata": {},
   "outputs": [],
   "source": []
  }
 ],
 "metadata": {
  "kernelspec": {
   "display_name": "Python 3",
   "language": "python",
   "name": "python3"
  },
  "language_info": {
   "codemirror_mode": {
    "name": "ipython",
    "version": 3
   },
   "file_extension": ".py",
   "mimetype": "text/x-python",
   "name": "python",
   "nbconvert_exporter": "python",
   "pygments_lexer": "ipython3",
   "version": "3.7.7"
  }
 },
 "nbformat": 4,
 "nbformat_minor": 4
}
