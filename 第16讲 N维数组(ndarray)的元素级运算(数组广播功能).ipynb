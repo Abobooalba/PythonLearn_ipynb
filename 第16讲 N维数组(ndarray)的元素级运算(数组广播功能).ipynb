{
 "cells": [
  {
   "cell_type": "markdown",
   "metadata": {},
   "source": [
    "# 第16讲 数组的元素级运算(数组广播功能)"
   ]
  },
  {
   "cell_type": "markdown",
   "metadata": {},
   "source": [
    "## Numpy广播计算\n",
    "\n",
    "数组a与标量b的+,-,*,/,//(整数商除法),%(取余数除法),**(幂)运算\n",
    "\n",
    "默认将标量b依据a行列数扩展为同结构的常数数组，然后再做对应位置的元素的+,-,*,/,//,%,**运算。\n",
    "\n",
    "数组的函数运算：\n",
    "\n",
    "利用数组的广播特性，数组内置的函数施加于数组的运算，自动分配到每个元素进行运算。例如sin(),sqrt(),sinc()等等。但外来函数施加于数组时，并不能把运算分配到每个元素，需要调用np.array(map(运算，数组名))来实现广播功能。\n",
    "\n",
    "数组之间的+,-,*,/,//,%,**运算：\n",
    "   要求参与运算的数组结构相同,至少行数或者列数相同，而且类型也有限制，例如字符数组不能与数值数组运算，等等。\n",
    "   \n",
    "##       数组op标量等价于所有数组元素op标量\n",
    "\n",
    "```python \n",
    "import numpy as np;\n",
    "\n",
    "a=np.array([[12,23],[34,45]]);\n",
    "a+10,a-10,a*10,a/10,a//10,a%10运算结果分别是\n",
    "```\n",
    "```\n",
    "a+10=> array([[22,33],[44,55]])\n",
    "a-10=>array([[2,13],[24,35]])\n",
    "a*10=>array([[120,230],[340,450]])\n",
    "a/10=>array([[1.2,2.3],[3.4,4.5]])\n",
    "a//10=>array([[1,2],[3,4]])\n",
    "a%10=>array([[2,3],[4,5]])\n",
    "```"
   ]
  },
  {
   "cell_type": "code",
   "execution_count": 3,
   "metadata": {},
   "outputs": [
    {
     "data": {
      "text/plain": [
       "(array([[22, 33],\n",
       "        [44, 55]]),\n",
       " array([[ 2, 13],\n",
       "        [24, 35]]),\n",
       " array([[120, 230],\n",
       "        [340, 450]]),\n",
       " array([[1.2, 2.3],\n",
       "        [3.4, 4.5]]),\n",
       " array([[1, 2],\n",
       "        [3, 4]], dtype=int32),\n",
       " array([[2, 3],\n",
       "        [4, 5]], dtype=int32))"
      ]
     },
     "execution_count": 3,
     "metadata": {},
     "output_type": "execute_result"
    }
   ],
   "source": [
    "import numpy as np;\n",
    "\n",
    "a=np.array([[12,23],[34,45]]);\n",
    "a+10,a-10,a*10,a/10,a//10,a%10"
   ]
  },
  {
   "cell_type": "markdown",
   "metadata": {},
   "source": [
    "## 两个同结构数组的op运算等价于对应元素的op运算"
   ]
  },
  {
   "cell_type": "code",
   "execution_count": null,
   "metadata": {},
   "outputs": [],
   "source": []
  },
  {
   "cell_type": "markdown",
   "metadata": {},
   "source": [
    "## 单行数组与单列数组运算时，默认自动扩展后再运算"
   ]
  },
  {
   "cell_type": "code",
   "execution_count": 6,
   "metadata": {},
   "outputs": [
    {
     "name": "stdout",
     "output_type": "stream",
     "text": [
      "[[ 12  20 120]]\n",
      "[[3]\n",
      " [4]]\n"
     ]
    },
    {
     "data": {
      "text/plain": [
       "(array([[ 15,  23, 123],\n",
       "        [ 16,  24, 124]]),\n",
       " array([[  9,  17, 117],\n",
       "        [  8,  16, 116]]),\n",
       " array([[ 36,  60, 360],\n",
       "        [ 48,  80, 480]]),\n",
       " array([[ 4.        ,  6.66666667, 40.        ],\n",
       "        [ 3.        ,  5.        , 30.        ]]),\n",
       " array([[ 4,  6, 40],\n",
       "        [ 3,  5, 30]], dtype=int32),\n",
       " array([[0, 2, 0],\n",
       "        [0, 0, 0]], dtype=int32),\n",
       " array([[     1728,      8000,   1728000],\n",
       "        [    20736,    160000, 207360000]], dtype=int32))"
      ]
     },
     "execution_count": 6,
     "metadata": {},
     "output_type": "execute_result"
    }
   ],
   "source": [
    "import numpy as np\n",
    "a=np.array([[12,20,120]])\n",
    "b=np.array([[3],[4]])\n",
    "print(a)\n",
    "print(b)\n",
    "a+b,a-b,a*b,a/b,a//b,a%b,a**b"
   ]
  },
  {
   "cell_type": "markdown",
   "metadata": {},
   "source": [
    "## 等值扩列与等值扩行的巧妙实现\n"
   ]
  },
  {
   "cell_type": "code",
   "execution_count": null,
   "metadata": {},
   "outputs": [],
   "source": [
    "import numpy as np\n",
    "a=np.arange(16).reshape(1,16)\n",
    "b=np.ones((16,1))\n",
    "print()"
   ]
  },
  {
   "cell_type": "markdown",
   "metadata": {},
   "source": [
    "不同结构的两个数组，结构满足条件时也可以默认扩展后参与运算。\n",
    "\n",
    "**条件是：两个数组要么同行要么同列。**\n",
    "\n",
    "例如2行3列与1行3列运算或与2行1列运算：\n",
    "```\n",
    "a+b=>array([[11,22,33],[41,52,63]])   a+c=>array([[14,24,34],[45,55,65]])\n",
    "a-b=>array([[9,18,27],[39,48,57]])   a-c=>array([[6,16,26],[35,45,55]])\n",
    "a*b=>array([[10,40,90],[40,100,180]])   a*c=>array([[40,80,120],[200,250,300]])\n",
    "a//b=>array([[10,10,10],[40,25,20]])   a//c=>array([[2,5,7],[8,10,12]])\n",
    "a%b=>array([[0,0,0],[0,0,0]])   a//c=>array([[2,0,2],[0,0,0]])\n",
    "a**b=>array([[    10,    400,  27000],\n",
    "       [    40,   2500, 216000]], dtype=int32)\n",
    "a**c=>array([[    10000,    160000,    810000],\n",
    "                         [102400000, 312500000, 777600000]], dtype=int32)\n",
    "这种运算时自动扩展和对应元素运算的特性称为数组容器的广播特性。\n",
    "```"
   ]
  },
  {
   "cell_type": "code",
   "execution_count": 11,
   "metadata": {},
   "outputs": [
    {
     "name": "stdout",
     "output_type": "stream",
     "text": [
      "[[10 20 30]\n",
      " [40 50 60]]\n",
      "[[1 2 3]]\n",
      "[[4]\n",
      " [5]]\n",
      "[[11 22 33]\n",
      " [41 52 63]]\n",
      "[[14 24 34]\n",
      " [45 55 65]]\n"
     ]
    }
   ],
   "source": [
    "import numpy as np;\n",
    "a=np.array([[10,20,30],[40,50,60]])\n",
    "b=np.array([[1,2,3]])\n",
    "c=np.array([[4],[5]])\n",
    "print(a)\n",
    "print(b)\n",
    "print(c)\n",
    "print(a+b)\n",
    "print(a+c)"
   ]
  },
  {
   "cell_type": "code",
   "execution_count": 12,
   "metadata": {},
   "outputs": [
    {
     "data": {
      "text/plain": [
       "(0.5000000000000001+0.8660254037844386j)"
      ]
     },
     "execution_count": 12,
     "metadata": {},
     "output_type": "execute_result"
    }
   ],
   "source": [
    "(-1)**(1/3)"
   ]
  },
  {
   "cell_type": "code",
   "execution_count": 24,
   "metadata": {},
   "outputs": [
    {
     "name": "stdout",
     "output_type": "stream",
     "text": [
      "[ 0.5   +0.87j -0.6   -1.61j 63.68+200.62j]\n",
      "[-1.00000000e+00+0.00000000e+00j  4.43700000e+00+2.38800000e+00j\n",
      " -7.43069441e+06-5.63341039e+06j]\n"
     ]
    }
   ],
   "source": [
    "a=((-1)**(1/3))**(np.exp(2j**np.pi*np.array([0,1,3])/3))\n",
    "print(a.round(2))\n",
    "\n",
    "print(np.round(a**3,3))"
   ]
  }
 ],
 "metadata": {
  "kernelspec": {
   "display_name": "Python 3",
   "language": "python",
   "name": "python3"
  },
  "language_info": {
   "codemirror_mode": {
    "name": "ipython",
    "version": 3
   },
   "file_extension": ".py",
   "mimetype": "text/x-python",
   "name": "python",
   "nbconvert_exporter": "python",
   "pygments_lexer": "ipython3",
   "version": "3.7.7"
  }
 },
 "nbformat": 4,
 "nbformat_minor": 4
}
